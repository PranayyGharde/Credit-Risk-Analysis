{
 "cells": [
  {
   "cell_type": "markdown",
   "id": "6094307e",
   "metadata": {},
   "source": [
    "# 1.Resources of the dataset"
   ]
  },
  {
   "cell_type": "markdown",
   "id": "53d9473e",
   "metadata": {},
   "source": [
    "https://www.dropbox.com/scl/fo/f4bu0u0qidn9ywvrsd06s/AI6KpLlsKYyjQUmf7tGVJ_I?rlkey=ycpppa0ccukeuj3rd5p0en67l&e=1&dl=0"
   ]
  },
  {
   "cell_type": "markdown",
   "id": "ae4568c1",
   "metadata": {},
   "source": [
    "\n",
    "   # about the dataset\n",
    "   \n",
    "       - the loan data is given is a sample data from a larger dataset from a affiliate bank from USA\n",
    "       - The loan application are filled manually by customers so there must be some missing values"
   ]
  },
  {
   "cell_type": "markdown",
   "id": "a40045f6",
   "metadata": {},
   "source": [
    "# summary -\n",
    "     - 1. we are going to convert USD to EURO\n",
    "     - 2. we will change any text column into numbers based on the info.\n",
    "     - 3. we will spilt the accounts by months"
   ]
  },
  {
   "cell_type": "code",
   "execution_count": 1,
   "id": "438c0bd0",
   "metadata": {},
   "outputs": [],
   "source": [
    "import numpy as np"
   ]
  },
  {
   "cell_type": "code",
   "execution_count": 2,
   "id": "a7ab5151",
   "metadata": {},
   "outputs": [],
   "source": [
    "np.set_printoptions(suppress = True, linewidth = 100, precision = 2)"
   ]
  },
  {
   "cell_type": "markdown",
   "id": "ccd87a83",
   "metadata": {},
   "source": [
    "## 2.Importing the data"
   ]
  },
  {
   "cell_type": "code",
   "execution_count": 3,
   "id": "7b11e80e",
   "metadata": {},
   "outputs": [
    {
     "data": {
      "text/plain": [
       "array([[48010226.  ,         nan,    35000.  , ...,         nan,         nan,     9452.96],\n",
       "       [57693261.  ,         nan,    30000.  , ...,         nan,         nan,     4679.7 ],\n",
       "       [59432726.  ,         nan,    15000.  , ...,         nan,         nan,     1969.83],\n",
       "       ...,\n",
       "       [50415990.  ,         nan,    10000.  , ...,         nan,         nan,     2185.64],\n",
       "       [46154151.  ,         nan,         nan, ...,         nan,         nan,     3199.4 ],\n",
       "       [66055249.  ,         nan,    10000.  , ...,         nan,         nan,      301.9 ]])"
      ]
     },
     "execution_count": 3,
     "metadata": {},
     "output_type": "execute_result"
    }
   ],
   "source": [
    "raw_data_np = np.genfromtxt(r\"C:\\Users\\prana\\Downloads\\S28 - A Loan Data Example with NumPy\\loan-data.csv\", delimiter = \";\", skip_header = 1, autostrip =True)\n",
    "\n",
    "raw_data_np\n",
    "#skip_header to remove the column header bcz we need numerical data \n",
    "# and autostrip to remove the white spaces "
   ]
  },
  {
   "cell_type": "markdown",
   "id": "1baa1f93",
   "metadata": {},
   "source": [
    "## 3.Checking up  Incomplete Data"
   ]
  },
  {
   "cell_type": "code",
   "execution_count": 4,
   "id": "4944a029",
   "metadata": {},
   "outputs": [
    {
     "data": {
      "text/plain": [
       "True"
      ]
     },
     "execution_count": 4,
     "metadata": {},
     "output_type": "execute_result"
    }
   ],
   "source": [
    "np.isnan(raw_data_np.sum())"
   ]
  },
  {
   "cell_type": "code",
   "execution_count": 5,
   "id": "9be79a28",
   "metadata": {},
   "outputs": [
    {
     "data": {
      "text/plain": [
       "88005"
      ]
     },
     "execution_count": 5,
     "metadata": {},
     "output_type": "execute_result"
    }
   ],
   "source": [
    "np.isnan(raw_data_np).sum()"
   ]
  },
  {
   "cell_type": "code",
   "execution_count": 6,
   "id": "3f879f37",
   "metadata": {},
   "outputs": [
    {
     "data": {
      "text/plain": [
       "68616520.0"
      ]
     },
     "execution_count": 6,
     "metadata": {},
     "output_type": "execute_result"
    }
   ],
   "source": [
    "temp_fill = np.nanmax(raw_data_np)+ 1\n",
    "temp_fill"
   ]
  },
  {
   "cell_type": "code",
   "execution_count": 7,
   "id": "b369537f",
   "metadata": {},
   "outputs": [
    {
     "data": {
      "text/plain": [
       "array([[48010226.  , 68616520.  ,    35000.  , ..., 68616520.  , 68616520.  ,     9452.96],\n",
       "       [57693261.  , 68616520.  ,    30000.  , ..., 68616520.  , 68616520.  ,     4679.7 ],\n",
       "       [59432726.  , 68616520.  ,    15000.  , ..., 68616520.  , 68616520.  ,     1969.83],\n",
       "       ...,\n",
       "       [50415990.  , 68616520.  ,    10000.  , ..., 68616520.  , 68616520.  ,     2185.64],\n",
       "       [46154151.  , 68616520.  , 68616520.  , ..., 68616520.  , 68616520.  ,     3199.4 ],\n",
       "       [66055249.  , 68616520.  ,    10000.  , ..., 68616520.  , 68616520.  ,      301.9 ]])"
      ]
     },
     "execution_count": 7,
     "metadata": {},
     "output_type": "execute_result"
    }
   ],
   "source": [
    "filled_dataset = np.where(np.isnan(raw_data_np), temp_fill, raw_data_np)\n",
    "filled_dataset\n"
   ]
  },
  {
   "cell_type": "code",
   "execution_count": 8,
   "id": "3c2af48d",
   "metadata": {},
   "outputs": [
    {
     "data": {
      "text/plain": [
       "0"
      ]
     },
     "execution_count": 8,
     "metadata": {},
     "output_type": "execute_result"
    }
   ],
   "source": [
    "np.isnan(temp_fill).sum()\n",
    "#now all the missiiing data is being filled"
   ]
  },
  {
   "cell_type": "code",
   "execution_count": 9,
   "id": "d1b035b5",
   "metadata": {},
   "outputs": [
    {
     "name": "stderr",
     "output_type": "stream",
     "text": [
      "C:\\Users\\prana\\AppData\\Local\\Temp\\ipykernel_26972\\966399788.py:1: RuntimeWarning: Mean of empty slice\n",
      "  temp_mean = np.nanmean(raw_data_np, axis = 0)\n"
     ]
    },
    {
     "data": {
      "text/plain": [
       "array([54015809.19,         nan,    15273.46,         nan,    15311.04,         nan,       16.62,\n",
       "            440.92,         nan,         nan,         nan,         nan,         nan,     3143.85])"
      ]
     },
     "execution_count": 9,
     "metadata": {},
     "output_type": "execute_result"
    }
   ],
   "source": [
    "temp_mean = np.nanmean(raw_data_np, axis = 0)\n",
    "temp_mean\n",
    "# we can see few columns are full of NAN values which may be strings"
   ]
  },
  {
   "cell_type": "code",
   "execution_count": 10,
   "id": "1134da94",
   "metadata": {},
   "outputs": [
    {
     "name": "stderr",
     "output_type": "stream",
     "text": [
      "C:\\Users\\prana\\AppData\\Local\\Temp\\ipykernel_26972\\3645683317.py:1: RuntimeWarning: All-NaN slice encountered\n",
      "  temp_stats =  np.array([np.nanmin(raw_data_np, axis = 0), temp_mean, np.nanmax(raw_data_np, axis = 0)])\n"
     ]
    },
    {
     "data": {
      "text/plain": [
       "array([[  373332.  ,         nan,     1000.  ,         nan,     1000.  ,         nan,        6.  ,\n",
       "              31.42,         nan,         nan,         nan,         nan,         nan,        0.  ],\n",
       "       [54015809.19,         nan,    15273.46,         nan,    15311.04,         nan,       16.62,\n",
       "             440.92,         nan,         nan,         nan,         nan,         nan,     3143.85],\n",
       "       [68616519.  ,         nan,    35000.  ,         nan,    35000.  ,         nan,       28.99,\n",
       "            1372.97,         nan,         nan,         nan,         nan,         nan,    41913.62]])"
      ]
     },
     "execution_count": 10,
     "metadata": {},
     "output_type": "execute_result"
    }
   ],
   "source": [
    "temp_stats =  np.array([np.nanmin(raw_data_np, axis = 0), temp_mean, np.nanmax(raw_data_np, axis = 0)])\n",
    "temp_stats"
   ]
  },
  {
   "cell_type": "markdown",
   "id": "b94372fc",
   "metadata": {},
   "source": [
    "## 4. a)  Splitting the Dataset\n",
    " to see which column is str and which is numeric"
   ]
  },
  {
   "cell_type": "code",
   "execution_count": 11,
   "id": "8fe661c1",
   "metadata": {},
   "outputs": [
    {
     "data": {
      "text/plain": [
       "array([ 1,  3,  5,  8,  9, 10, 11, 12], dtype=int64)"
      ]
     },
     "execution_count": 11,
     "metadata": {},
     "output_type": "execute_result"
    }
   ],
   "source": [
    "#for string column\n",
    "str_column = np.argwhere(np.isnan(temp_mean)).squeeze()\n",
    "str_column"
   ]
  },
  {
   "cell_type": "code",
   "execution_count": 12,
   "id": "8eb89bc5",
   "metadata": {},
   "outputs": [
    {
     "data": {
      "text/plain": [
       "array([ 0,  2,  4,  6,  7, 13], dtype=int64)"
      ]
     },
     "execution_count": 12,
     "metadata": {},
     "output_type": "execute_result"
    }
   ],
   "source": [
    "#for numerical column \n",
    "num_column = np.argwhere(np.isnan(temp_mean)== False).squeeze()\n",
    "num_column "
   ]
  },
  {
   "cell_type": "markdown",
   "id": "18cb7cf8",
   "metadata": {},
   "source": [
    "## b) Reimporting the Dataset "
   ]
  },
  {
   "cell_type": "markdown",
   "id": "f447a459",
   "metadata": {},
   "source": [
    "#### for string dataset"
   ]
  },
  {
   "cell_type": "code",
   "execution_count": 13,
   "id": "9af111e6",
   "metadata": {},
   "outputs": [
    {
     "data": {
      "text/plain": [
       "array([['May-15', 'Current', '36 months', ..., 'Verified',\n",
       "        'https://www.lendingclub.com/browse/loanDetail.action?loan_id=48010226', 'CA'],\n",
       "       ['', 'Current', '36 months', ..., 'Source Verified',\n",
       "        'https://www.lendingclub.com/browse/loanDetail.action?loan_id=57693261', 'NY'],\n",
       "       ['Sep-15', 'Current', '36 months', ..., 'Verified',\n",
       "        'https://www.lendingclub.com/browse/loanDetail.action?loan_id=59432726', 'PA'],\n",
       "       ...,\n",
       "       ['Jun-15', 'Current', '36 months', ..., 'Source Verified',\n",
       "        'https://www.lendingclub.com/browse/loanDetail.action?loan_id=50415990', 'CA'],\n",
       "       ['Apr-15', 'Current', '36 months', ..., 'Source Verified',\n",
       "        'https://www.lendingclub.com/browse/loanDetail.action?loan_id=46154151', 'OH'],\n",
       "       ['Dec-15', 'Current', '36 months', ..., '',\n",
       "        'https://www.lendingclub.com/browse/loanDetail.action?loan_id=66055249', 'IL']],\n",
       "      dtype='<U69')"
      ]
     },
     "execution_count": 13,
     "metadata": {},
     "output_type": "execute_result"
    }
   ],
   "source": [
    "loan_data_strings = np.genfromtxt(r\"C:\\Users\\prana\\Downloads\\S28 - A Loan Data Example with NumPy\\loan-data.csv\", \n",
    "                            delimiter = \";\", \n",
    "                            skip_header = 1,\n",
    "                            autostrip =True,\n",
    "                            usecols = str_column,\n",
    "                            dtype =str)\n",
    "loan_data_strings"
   ]
  },
  {
   "cell_type": "markdown",
   "id": "f76ad70d",
   "metadata": {},
   "source": [
    "#### for numeric dataset"
   ]
  },
  {
   "cell_type": "code",
   "execution_count": 14,
   "id": "7462f1fc",
   "metadata": {},
   "outputs": [
    {
     "data": {
      "text/plain": [
       "array([[48010226.  ,    35000.  ,    35000.  ,       13.33,     1184.86,     9452.96],\n",
       "       [57693261.  ,    30000.  ,    30000.  , 68616520.  ,      938.57,     4679.7 ],\n",
       "       [59432726.  ,    15000.  ,    15000.  , 68616520.  ,      494.86,     1969.83],\n",
       "       ...,\n",
       "       [50415990.  ,    10000.  ,    10000.  , 68616520.  , 68616520.  ,     2185.64],\n",
       "       [46154151.  , 68616520.  ,    10000.  ,       16.55,      354.3 ,     3199.4 ],\n",
       "       [66055249.  ,    10000.  ,    10000.  , 68616520.  ,      309.97,      301.9 ]])"
      ]
     },
     "execution_count": 14,
     "metadata": {},
     "output_type": "execute_result"
    }
   ],
   "source": [
    "loan_data_numeric = np.genfromtxt(r\"C:\\Users\\prana\\Downloads\\S28 - A Loan Data Example with NumPy\\loan-data.csv\", \n",
    "                            delimiter = \";\", \n",
    "                            skip_header = 1,\n",
    "                            autostrip =True,\n",
    "                            usecols = num_column,\n",
    "                            filling_values = temp_fill)\n",
    "loan_data_numeric"
   ]
  },
  {
   "cell_type": "markdown",
   "id": "902d632b",
   "metadata": {},
   "source": [
    "### The name of the columns"
   ]
  },
  {
   "cell_type": "code",
   "execution_count": 15,
   "id": "bdd4ab6c",
   "metadata": {},
   "outputs": [
    {
     "data": {
      "text/plain": [
       "array(['id', 'issue_d', 'loan_amnt', 'loan_status', 'funded_amnt', 'term', 'int_rate',\n",
       "       'installment', 'grade', 'sub_grade', 'verification_status', 'url', 'addr_state',\n",
       "       'total_pymnt'], dtype='<U19')"
      ]
     },
     "execution_count": 15,
     "metadata": {},
     "output_type": "execute_result"
    }
   ],
   "source": [
    "header_full = np.genfromtxt(r\"C:\\Users\\prana\\Downloads\\S28 - A Loan Data Example with NumPy\\loan-data.csv\", \n",
    "                            delimiter = \";\", \n",
    "                            skip_footer = raw_data_np.shape[0],\n",
    "                            autostrip =True,\n",
    "                            \n",
    "                            dtype =str)\n",
    "header_full\n",
    "\n",
    "# skip_footer with this condition show only header of  the column"
   ]
  },
  {
   "cell_type": "code",
   "execution_count": 16,
   "id": "aa2a0ef7",
   "metadata": {},
   "outputs": [
    {
     "data": {
      "text/plain": [
       "array(['issue_d', 'loan_status', 'term', 'grade', 'sub_grade', 'verification_status', 'url',\n",
       "       'addr_state'], dtype='<U19')"
      ]
     },
     "execution_count": 16,
     "metadata": {},
     "output_type": "execute_result"
    }
   ],
   "source": [
    "header_strings = header_full[str_column]   \n",
    "header_strings"
   ]
  },
  {
   "cell_type": "code",
   "execution_count": 17,
   "id": "666f82ed",
   "metadata": {},
   "outputs": [
    {
     "data": {
      "text/plain": [
       "array([['May-15', 'Current', '36 months', ..., 'Verified',\n",
       "        'https://www.lendingclub.com/browse/loanDetail.action?loan_id=48010226', 'CA'],\n",
       "       ['', 'Current', '36 months', ..., 'Source Verified',\n",
       "        'https://www.lendingclub.com/browse/loanDetail.action?loan_id=57693261', 'NY'],\n",
       "       ['Sep-15', 'Current', '36 months', ..., 'Verified',\n",
       "        'https://www.lendingclub.com/browse/loanDetail.action?loan_id=59432726', 'PA'],\n",
       "       ...,\n",
       "       ['Jun-15', 'Current', '36 months', ..., 'Source Verified',\n",
       "        'https://www.lendingclub.com/browse/loanDetail.action?loan_id=50415990', 'CA'],\n",
       "       ['Apr-15', 'Current', '36 months', ..., 'Source Verified',\n",
       "        'https://www.lendingclub.com/browse/loanDetail.action?loan_id=46154151', 'OH'],\n",
       "       ['Dec-15', 'Current', '36 months', ..., '',\n",
       "        'https://www.lendingclub.com/browse/loanDetail.action?loan_id=66055249', 'IL']],\n",
       "      dtype='<U69')"
      ]
     },
     "execution_count": 17,
     "metadata": {},
     "output_type": "execute_result"
    }
   ],
   "source": [
    "loan_data_strings"
   ]
  },
  {
   "cell_type": "code",
   "execution_count": 18,
   "id": "e2c2e53d",
   "metadata": {},
   "outputs": [
    {
     "data": {
      "text/plain": [
       "array(['id', 'loan_amnt', 'funded_amnt', 'int_rate', 'installment', 'total_pymnt'], dtype='<U19')"
      ]
     },
     "execution_count": 18,
     "metadata": {},
     "output_type": "execute_result"
    }
   ],
   "source": [
    "header_numeric = header_full[num_column]\n",
    "header_numeric"
   ]
  },
  {
   "cell_type": "markdown",
   "id": "04868c96",
   "metadata": {},
   "source": [
    "\n",
    "# 5- Creating Checkpoints\n",
    "\n",
    "checkpoints : places through our code where we store a copy of our dataset bcz we want to avoid losing a progress"
   ]
  },
  {
   "cell_type": "code",
   "execution_count": 19,
   "id": "1d757c22",
   "metadata": {},
   "outputs": [],
   "source": [
    "def checkpoints(file_name, checkpoint_header, checkpoint_data):\n",
    "    np.savez(file_name, header = checkpoint_header, data = checkpoint_data)\n",
    "    checkpoint_variable = np.load(file_name+ \".npz\")\n",
    "    return(checkpoint_variable)"
   ]
  },
  {
   "cell_type": "code",
   "execution_count": 20,
   "id": "18a21903",
   "metadata": {},
   "outputs": [],
   "source": [
    "checkpoint_test = checkpoints(\"checkpoint-test\", header_strings, loan_data_strings) "
   ]
  },
  {
   "cell_type": "code",
   "execution_count": 21,
   "id": "7c092f6c",
   "metadata": {},
   "outputs": [
    {
     "data": {
      "text/plain": [
       "array(['issue_d', 'loan_status', 'term', 'grade', 'sub_grade', 'verification_status', 'url',\n",
       "       'addr_state'], dtype='<U19')"
      ]
     },
     "execution_count": 21,
     "metadata": {},
     "output_type": "execute_result"
    }
   ],
   "source": [
    "#checking checkpoint\n",
    "checkpoint_test[\"header\"]"
   ]
  },
  {
   "cell_type": "code",
   "execution_count": 22,
   "id": "12a38a6d",
   "metadata": {},
   "outputs": [
    {
     "data": {
      "text/plain": [
       "array([['May-15', 'Current', '36 months', ..., 'Verified',\n",
       "        'https://www.lendingclub.com/browse/loanDetail.action?loan_id=48010226', 'CA'],\n",
       "       ['', 'Current', '36 months', ..., 'Source Verified',\n",
       "        'https://www.lendingclub.com/browse/loanDetail.action?loan_id=57693261', 'NY'],\n",
       "       ['Sep-15', 'Current', '36 months', ..., 'Verified',\n",
       "        'https://www.lendingclub.com/browse/loanDetail.action?loan_id=59432726', 'PA'],\n",
       "       ...,\n",
       "       ['Jun-15', 'Current', '36 months', ..., 'Source Verified',\n",
       "        'https://www.lendingclub.com/browse/loanDetail.action?loan_id=50415990', 'CA'],\n",
       "       ['Apr-15', 'Current', '36 months', ..., 'Source Verified',\n",
       "        'https://www.lendingclub.com/browse/loanDetail.action?loan_id=46154151', 'OH'],\n",
       "       ['Dec-15', 'Current', '36 months', ..., '',\n",
       "        'https://www.lendingclub.com/browse/loanDetail.action?loan_id=66055249', 'IL']],\n",
       "      dtype='<U69')"
      ]
     },
     "execution_count": 22,
     "metadata": {},
     "output_type": "execute_result"
    }
   ],
   "source": [
    "checkpoint_test[\"data\"]"
   ]
  },
  {
   "cell_type": "markdown",
   "id": "6eb49d24",
   "metadata": {},
   "source": [
    "\n",
    "# 6- Manipulating The Strings Column"
   ]
  },
  {
   "cell_type": "code",
   "execution_count": 23,
   "id": "c49edf3a",
   "metadata": {},
   "outputs": [
    {
     "data": {
      "text/plain": [
       "array(['issue_d', 'loan_status', 'term', 'grade', 'sub_grade', 'verification_status', 'url',\n",
       "       'addr_state'], dtype='<U19')"
      ]
     },
     "execution_count": 23,
     "metadata": {},
     "output_type": "execute_result"
    }
   ],
   "source": [
    "header_strings"
   ]
  },
  {
   "cell_type": "code",
   "execution_count": 24,
   "id": "732552b2",
   "metadata": {},
   "outputs": [],
   "source": [
    "header_strings[0] =\"issue_date\"\n",
    "#since issue_d name was not descrptive"
   ]
  },
  {
   "cell_type": "code",
   "execution_count": 25,
   "id": "08468fc3",
   "metadata": {},
   "outputs": [
    {
     "data": {
      "text/plain": [
       "array(['issue_date', 'loan_status', 'term', 'grade', 'sub_grade', 'verification_status', 'url',\n",
       "       'addr_state'], dtype='<U19')"
      ]
     },
     "execution_count": 25,
     "metadata": {},
     "output_type": "execute_result"
    }
   ],
   "source": [
    "header_strings"
   ]
  },
  {
   "cell_type": "code",
   "execution_count": 26,
   "id": "c296601b",
   "metadata": {},
   "outputs": [
    {
     "data": {
      "text/plain": [
       "array([['May-15', 'Current', '36 months', ..., 'Verified',\n",
       "        'https://www.lendingclub.com/browse/loanDetail.action?loan_id=48010226', 'CA'],\n",
       "       ['', 'Current', '36 months', ..., 'Source Verified',\n",
       "        'https://www.lendingclub.com/browse/loanDetail.action?loan_id=57693261', 'NY'],\n",
       "       ['Sep-15', 'Current', '36 months', ..., 'Verified',\n",
       "        'https://www.lendingclub.com/browse/loanDetail.action?loan_id=59432726', 'PA'],\n",
       "       ...,\n",
       "       ['Jun-15', 'Current', '36 months', ..., 'Source Verified',\n",
       "        'https://www.lendingclub.com/browse/loanDetail.action?loan_id=50415990', 'CA'],\n",
       "       ['Apr-15', 'Current', '36 months', ..., 'Source Verified',\n",
       "        'https://www.lendingclub.com/browse/loanDetail.action?loan_id=46154151', 'OH'],\n",
       "       ['Dec-15', 'Current', '36 months', ..., '',\n",
       "        'https://www.lendingclub.com/browse/loanDetail.action?loan_id=66055249', 'IL']],\n",
       "      dtype='<U69')"
      ]
     },
     "execution_count": 26,
     "metadata": {},
     "output_type": "execute_result"
    }
   ],
   "source": [
    "loan_data_strings"
   ]
  },
  {
   "cell_type": "markdown",
   "id": "cf8130ea",
   "metadata": {},
   "source": [
    " alll the records from are from \n",
    " 2015 so we can remove(strip) 2015"
   ]
  },
  {
   "cell_type": "code",
   "execution_count": 27,
   "id": "ace8e9a7",
   "metadata": {},
   "outputs": [
    {
     "data": {
      "text/plain": [
       "array(['', 'Apr-15', 'Aug-15', 'Dec-15', 'Feb-15', 'Jan-15', 'Jul-15', 'Jun-15', 'Mar-15',\n",
       "       'May-15', 'Nov-15', 'Oct-15', 'Sep-15'], dtype='<U69')"
      ]
     },
     "execution_count": 27,
     "metadata": {},
     "output_type": "execute_result"
    }
   ],
   "source": [
    "np.unique(loan_data_strings[:,0])"
   ]
  },
  {
   "cell_type": "code",
   "execution_count": 28,
   "id": "9e40c448",
   "metadata": {},
   "outputs": [],
   "source": [
    "loan_data_strings[:,0] = np.chararray.strip(loan_data_strings[:,0], \"-15\")"
   ]
  },
  {
   "cell_type": "code",
   "execution_count": 29,
   "id": "61609bf5",
   "metadata": {},
   "outputs": [
    {
     "data": {
      "text/plain": [
       "array(['', 'Apr', 'Aug', 'Dec', 'Feb', 'Jan', 'Jul', 'Jun', 'Mar', 'May', 'Nov', 'Oct', 'Sep'],\n",
       "      dtype='<U69')"
      ]
     },
     "execution_count": 29,
     "metadata": {},
     "output_type": "execute_result"
    }
   ],
   "source": [
    "np.unique(loan_data_strings[:,0])"
   ]
  },
  {
   "cell_type": "markdown",
   "id": "d9e8ffae",
   "metadata": {},
   "source": [
    "here we can see the values of issue_date is in strings so we gonna change it with month number using **for loop**"
   ]
  },
  {
   "cell_type": "code",
   "execution_count": 30,
   "id": "2e44e810",
   "metadata": {},
   "outputs": [],
   "source": [
    "months = np.array(['', 'Apr', 'Aug', 'Dec', 'Feb', 'Jan', 'Jul', 'Jun', 'Mar', 'May', 'Nov', 'Oct', 'Sep'])"
   ]
  },
  {
   "cell_type": "code",
   "execution_count": 31,
   "id": "e9343b03",
   "metadata": {},
   "outputs": [],
   "source": [
    "for i in range(13):\n",
    "    loan_data_strings[:,0] = np.where(loan_data_strings[:,0] == months[i],i,loan_data_strings[:,0])"
   ]
  },
  {
   "cell_type": "code",
   "execution_count": 32,
   "id": "e71b9cf9",
   "metadata": {},
   "outputs": [
    {
     "data": {
      "text/plain": [
       "array(['0', '1', '10', '11', '12', '2', '3', '4', '5', '6', '7', '8', '9'], dtype='<U69')"
      ]
     },
     "execution_count": 32,
     "metadata": {},
     "output_type": "execute_result"
    }
   ],
   "source": [
    "np.unique(loan_data_strings[:,0])"
   ]
  },
  {
   "cell_type": "markdown",
   "id": "bca050bb",
   "metadata": {},
   "source": [
    "# 7) Manipulating Text Data: Loan Status and Term"
   ]
  },
  {
   "cell_type": "markdown",
   "id": "ac031249",
   "metadata": {},
   "source": [
    "## Loan Status"
   ]
  },
  {
   "cell_type": "code",
   "execution_count": 33,
   "id": "558ec7eb",
   "metadata": {},
   "outputs": [
    {
     "data": {
      "text/plain": [
       "array(['issue_date', 'loan_status', 'term', 'grade', 'sub_grade', 'verification_status', 'url',\n",
       "       'addr_state'], dtype='<U19')"
      ]
     },
     "execution_count": 33,
     "metadata": {},
     "output_type": "execute_result"
    }
   ],
   "source": [
    "header_strings"
   ]
  },
  {
   "cell_type": "code",
   "execution_count": 34,
   "id": "b32d2294",
   "metadata": {},
   "outputs": [
    {
     "data": {
      "text/plain": [
       "array(['Current', 'Current', 'Current', ..., 'Current', 'Current', 'Current'], dtype='<U69')"
      ]
     },
     "execution_count": 34,
     "metadata": {},
     "output_type": "execute_result"
    }
   ],
   "source": [
    "loan_data_strings[:,1]\n",
    "#we seeing only \"current \" values but there must be other values too "
   ]
  },
  {
   "cell_type": "code",
   "execution_count": 35,
   "id": "4322c598",
   "metadata": {},
   "outputs": [
    {
     "data": {
      "text/plain": [
       "array(['', 'Charged Off', 'Current', 'Default', 'Fully Paid', 'In Grace Period', 'Issued',\n",
       "       'Late (16-30 days)', 'Late (31-120 days)'], dtype='<U69')"
      ]
     },
     "execution_count": 35,
     "metadata": {},
     "output_type": "execute_result"
    }
   ],
   "source": [
    "np.unique(loan_data_strings[:,1])"
   ]
  },
  {
   "cell_type": "code",
   "execution_count": 36,
   "id": "8416d1aa",
   "metadata": {},
   "outputs": [
    {
     "data": {
      "text/plain": [
       "9"
      ]
     },
     "execution_count": 36,
     "metadata": {},
     "output_type": "execute_result"
    }
   ],
   "source": [
    "np.unique(loan_data_strings[:,1]).size\n",
    "#there are 9 unique values"
   ]
  },
  {
   "cell_type": "markdown",
   "id": "23746e88",
   "metadata": {},
   "source": [
    "### Regression care if candidates are in stable financial condition\n",
    "\n",
    "#### so we need to split all possible values in groups (good or bad)\n",
    "\n",
    "##### **Current, fully Paid, In Grace Period,  Issued and Late 16-30 day** are in good group \n",
    "##### Charged off , Default and Late 31-120 days are in bad group \n",
    "\n",
    "#### we give numeric values to good and bad\n",
    "##### good = 1\n",
    "##### bad = 0"
   ]
  },
  {
   "cell_type": "code",
   "execution_count": 37,
   "id": "0da7d7cc",
   "metadata": {},
   "outputs": [],
   "source": [
    "status_bad = np.array(['','Charged Off','Default','Late (31-120 days)'])"
   ]
  },
  {
   "cell_type": "code",
   "execution_count": 38,
   "id": "1b0499a8",
   "metadata": {},
   "outputs": [],
   "source": [
    "loan_data_strings[:,1]= np.where(np.isin(loan_data_strings[:,1], status_bad),0,1)"
   ]
  },
  {
   "cell_type": "code",
   "execution_count": 39,
   "id": "b4489a51",
   "metadata": {},
   "outputs": [
    {
     "data": {
      "text/plain": [
       "array(['1', '1', '1', ..., '1', '1', '1'], dtype='<U69')"
      ]
     },
     "execution_count": 39,
     "metadata": {},
     "output_type": "execute_result"
    }
   ],
   "source": [
    "(loan_data_strings[:,1])"
   ]
  },
  {
   "cell_type": "code",
   "execution_count": 40,
   "id": "de48580a",
   "metadata": {},
   "outputs": [
    {
     "data": {
      "text/plain": [
       "array(['0', '1'], dtype='<U69')"
      ]
     },
     "execution_count": 40,
     "metadata": {},
     "output_type": "execute_result"
    }
   ],
   "source": [
    "np.unique(loan_data_strings[:,1])"
   ]
  },
  {
   "cell_type": "markdown",
   "id": "5f01cdaf",
   "metadata": {},
   "source": [
    "## term column"
   ]
  },
  {
   "cell_type": "code",
   "execution_count": 41,
   "id": "675f8ab2",
   "metadata": {},
   "outputs": [
    {
     "data": {
      "text/plain": [
       "array(['issue_date', 'loan_status', 'term', 'grade', 'sub_grade', 'verification_status', 'url',\n",
       "       'addr_state'], dtype='<U19')"
      ]
     },
     "execution_count": 41,
     "metadata": {},
     "output_type": "execute_result"
    }
   ],
   "source": [
    "header_strings"
   ]
  },
  {
   "cell_type": "code",
   "execution_count": 42,
   "id": "a4f0a3b9",
   "metadata": {},
   "outputs": [
    {
     "data": {
      "text/plain": [
       "array(['36 months', '36 months', '36 months', ..., '36 months', '36 months', '36 months'],\n",
       "      dtype='<U69')"
      ]
     },
     "execution_count": 42,
     "metadata": {},
     "output_type": "execute_result"
    }
   ],
   "source": [
    "loan_data_strings[:,2]"
   ]
  },
  {
   "cell_type": "code",
   "execution_count": 43,
   "id": "5c183693",
   "metadata": {},
   "outputs": [
    {
     "data": {
      "text/plain": [
       "array(['', '36 months', '60 months'], dtype='<U69')"
      ]
     },
     "execution_count": 43,
     "metadata": {},
     "output_type": "execute_result"
    }
   ],
   "source": [
    "np.unique(loan_data_strings[:,2])"
   ]
  },
  {
   "cell_type": "markdown",
   "id": "dd6da5b6",
   "metadata": {},
   "source": [
    "**striping months from term column**"
   ]
  },
  {
   "cell_type": "code",
   "execution_count": 44,
   "id": "c7defd8f",
   "metadata": {},
   "outputs": [],
   "source": [
    "loan_data_strings[:,2] = np.chararray.strip(loan_data_strings[:,2],\" months\")"
   ]
  },
  {
   "cell_type": "code",
   "execution_count": 45,
   "id": "50c5d899",
   "metadata": {},
   "outputs": [
    {
     "data": {
      "text/plain": [
       "array(['36', '36', '36', ..., '36', '36', '36'], dtype='<U69')"
      ]
     },
     "execution_count": 45,
     "metadata": {},
     "output_type": "execute_result"
    }
   ],
   "source": [
    "loan_data_strings[:,2]"
   ]
  },
  {
   "cell_type": "code",
   "execution_count": 46,
   "id": "e61909b3",
   "metadata": {},
   "outputs": [
    {
     "data": {
      "text/plain": [
       "array(['', '36', '60'], dtype='<U69')"
      ]
     },
     "execution_count": 46,
     "metadata": {},
     "output_type": "execute_result"
    }
   ],
   "source": [
    "np.unique(loan_data_strings[:,2])"
   ]
  },
  {
   "cell_type": "markdown",
   "id": "f6755f4f",
   "metadata": {},
   "source": [
    "**we can assume 60 months is a worst month and 36 months is good month**"
   ]
  },
  {
   "cell_type": "code",
   "execution_count": 47,
   "id": "732718eb",
   "metadata": {},
   "outputs": [],
   "source": [
    "header_strings[2] = \"term_months\""
   ]
  },
  {
   "cell_type": "code",
   "execution_count": 48,
   "id": "f3b9de35",
   "metadata": {},
   "outputs": [
    {
     "data": {
      "text/plain": [
       "array(['issue_date', 'loan_status', 'term_months', 'grade', 'sub_grade', 'verification_status',\n",
       "       'url', 'addr_state'], dtype='<U19')"
      ]
     },
     "execution_count": 48,
     "metadata": {},
     "output_type": "execute_result"
    }
   ],
   "source": [
    "header_strings"
   ]
  },
  {
   "cell_type": "code",
   "execution_count": 49,
   "id": "7e6f5bc7",
   "metadata": {},
   "outputs": [
    {
     "data": {
      "text/plain": [
       "array(['36', '36', '36', ..., '36', '36', '36'], dtype='<U69')"
      ]
     },
     "execution_count": 49,
     "metadata": {},
     "output_type": "execute_result"
    }
   ],
   "source": [
    "loan_data_strings[:,2] "
   ]
  },
  {
   "cell_type": "markdown",
   "id": "2d211427",
   "metadata": {},
   "source": [
    "**coverting empty months to 60 months**"
   ]
  },
  {
   "cell_type": "code",
   "execution_count": 50,
   "id": "ef3fb8cb",
   "metadata": {},
   "outputs": [],
   "source": [
    "loan_data_strings[:,2] = np.where(loan_data_strings[:,2]=='', 60, loan_data_strings[:,2])"
   ]
  },
  {
   "cell_type": "code",
   "execution_count": 51,
   "id": "a2fc9be6",
   "metadata": {},
   "outputs": [
    {
     "data": {
      "text/plain": [
       "array(['36', '60'], dtype='<U69')"
      ]
     },
     "execution_count": 51,
     "metadata": {},
     "output_type": "execute_result"
    }
   ],
   "source": [
    "np.unique(loan_data_strings[:,2])"
   ]
  },
  {
   "cell_type": "markdown",
   "id": "a639810d",
   "metadata": {},
   "source": [
    "## Grade and Subgrade\n",
    "\n",
    "###### grade"
   ]
  },
  {
   "cell_type": "code",
   "execution_count": 52,
   "id": "2ff2a927",
   "metadata": {},
   "outputs": [
    {
     "data": {
      "text/plain": [
       "array(['issue_date', 'loan_status', 'term_months', 'grade', 'sub_grade', 'verification_status',\n",
       "       'url', 'addr_state'], dtype='<U19')"
      ]
     },
     "execution_count": 52,
     "metadata": {},
     "output_type": "execute_result"
    }
   ],
   "source": [
    "header_strings "
   ]
  },
  {
   "cell_type": "code",
   "execution_count": 53,
   "id": "b6ca1eec",
   "metadata": {},
   "outputs": [
    {
     "data": {
      "text/plain": [
       "array(['C', 'A', 'B', ..., 'A', 'D', 'A'], dtype='<U69')"
      ]
     },
     "execution_count": 53,
     "metadata": {},
     "output_type": "execute_result"
    }
   ],
   "source": [
    "loan_data_strings[:,3]"
   ]
  },
  {
   "cell_type": "code",
   "execution_count": 54,
   "id": "ff964e8c",
   "metadata": {},
   "outputs": [
    {
     "data": {
      "text/plain": [
       "array(['', 'A', 'B', 'C', 'D', 'E', 'F', 'G'], dtype='<U69')"
      ]
     },
     "execution_count": 54,
     "metadata": {},
     "output_type": "execute_result"
    }
   ],
   "source": [
    "np.unique(loan_data_strings[:,3])"
   ]
  },
  {
   "cell_type": "markdown",
   "id": "b7d64808",
   "metadata": {},
   "source": [
    "###### sub_grade"
   ]
  },
  {
   "cell_type": "code",
   "execution_count": 55,
   "id": "c87d96b5",
   "metadata": {},
   "outputs": [
    {
     "data": {
      "text/plain": [
       "array(['C3', 'A5', 'B5', ..., 'A5', 'D2', 'A4'], dtype='<U69')"
      ]
     },
     "execution_count": 55,
     "metadata": {},
     "output_type": "execute_result"
    }
   ],
   "source": [
    "loan_data_strings[:,4]"
   ]
  },
  {
   "cell_type": "code",
   "execution_count": 56,
   "id": "10038ed1",
   "metadata": {},
   "outputs": [
    {
     "data": {
      "text/plain": [
       "array(['', 'A1', 'A2', 'A3', 'A4', 'A5', 'B1', 'B2', 'B3', 'B4', 'B5', 'C1', 'C2', 'C3', 'C4',\n",
       "       'C5', 'D1', 'D2', 'D3', 'D4', 'D5', 'E1', 'E2', 'E3', 'E4', 'E5', 'F1', 'F2', 'F3', 'F4',\n",
       "       'F5', 'G1', 'G2', 'G3', 'G4', 'G5'], dtype='<U69')"
      ]
     },
     "execution_count": 56,
     "metadata": {},
     "output_type": "execute_result"
    }
   ],
   "source": [
    "np.unique(loan_data_strings[:,4])"
   ]
  },
  {
   "cell_type": "markdown",
   "id": "71dd8de3",
   "metadata": {},
   "source": [
    "checking how many times here is missing value"
   ]
  },
  {
   "cell_type": "code",
   "execution_count": 57,
   "id": "252357dd",
   "metadata": {},
   "outputs": [
    {
     "data": {
      "text/plain": [
       "(array(['', 'A1', 'A2', 'A3', 'A4', 'A5', 'B1', 'B2', 'B3', 'B4', 'B5', 'C1', 'C2', 'C3', 'C4',\n",
       "        'C5', 'D1', 'D2', 'D3', 'D4', 'D5', 'E1', 'E2', 'E3', 'E4', 'E5', 'F1', 'F2', 'F3', 'F4',\n",
       "        'F5', 'G1', 'G2', 'G3', 'G4', 'G5'], dtype='<U69'),\n",
       " array([514, 285, 278, 239, 323, 502, 509, 517, 530, 553, 494, 629, 567, 586, 564, 423, 391, 267,\n",
       "        250, 255, 223, 235, 162, 171, 139, 114,  94,  52,  34,  43,  16,  19,  10,   3,   7,   2],\n",
       "       dtype=int64))"
      ]
     },
     "execution_count": 57,
     "metadata": {},
     "output_type": "execute_result"
    }
   ],
   "source": [
    "np.unique(loan_data_strings[:,4], return_counts = True)"
   ]
  },
  {
   "cell_type": "markdown",
   "id": "4cd04ca5",
   "metadata": {},
   "source": [
    "**we see only 514 missing data out of 10000 rows so gonna give them the least grade**|"
   ]
  },
  {
   "cell_type": "markdown",
   "id": "2ec14d36",
   "metadata": {},
   "source": [
    "### Filling subgrades\n"
   ]
  },
  {
   "cell_type": "code",
   "execution_count": 58,
   "id": "27abdf2c",
   "metadata": {},
   "outputs": [],
   "source": [
    "loan_data_strings[:,4] = np.where(loan_data_strings[:,4]== '', \"H1\",\n",
    "                                 loan_data_strings[:,4])"
   ]
  },
  {
   "cell_type": "code",
   "execution_count": 59,
   "id": "2f5b6abe",
   "metadata": {},
   "outputs": [
    {
     "data": {
      "text/plain": [
       "array(['A1', 'A2', 'A3', 'A4', 'A5', 'B1', 'B2', 'B3', 'B4', 'B5', 'C1', 'C2', 'C3', 'C4', 'C5',\n",
       "       'D1', 'D2', 'D3', 'D4', 'D5', 'E1', 'E2', 'E3', 'E4', 'E5', 'F1', 'F2', 'F3', 'F4', 'F5',\n",
       "       'G1', 'G2', 'G3', 'G4', 'G5', 'H1'], dtype='<U69')"
      ]
     },
     "execution_count": 59,
     "metadata": {},
     "output_type": "execute_result"
    }
   ],
   "source": [
    "np.unique(loan_data_strings[:,4])"
   ]
  },
  {
   "cell_type": "markdown",
   "id": "d4155d48",
   "metadata": {},
   "source": [
    "###### we got sub_grade so we dont need grade anymore"
   ]
  },
  {
   "cell_type": "markdown",
   "id": "a8b47107",
   "metadata": {},
   "source": [
    "### Removing Grade"
   ]
  },
  {
   "cell_type": "code",
   "execution_count": 60,
   "id": "4c565235",
   "metadata": {},
   "outputs": [],
   "source": [
    "#deleting grade coulumn\n",
    "loan_data_strings = np.delete(loan_data_strings, 3, axis =1)"
   ]
  },
  {
   "cell_type": "code",
   "execution_count": 61,
   "id": "66db7b16",
   "metadata": {},
   "outputs": [],
   "source": [
    "#deleting grade header\n",
    "header_strings = np.delete(header_strings, 3)"
   ]
  },
  {
   "cell_type": "code",
   "execution_count": 62,
   "id": "ce0a116e",
   "metadata": {},
   "outputs": [
    {
     "data": {
      "text/plain": [
       "array(['issue_date', 'loan_status', 'term_months', 'sub_grade', 'verification_status', 'url',\n",
       "       'addr_state'], dtype='<U19')"
      ]
     },
     "execution_count": 62,
     "metadata": {},
     "output_type": "execute_result"
    }
   ],
   "source": [
    "header_strings"
   ]
  },
  {
   "cell_type": "code",
   "execution_count": 63,
   "id": "24be16a2",
   "metadata": {},
   "outputs": [
    {
     "data": {
      "text/plain": [
       "'sub_grade'"
      ]
     },
     "execution_count": 63,
     "metadata": {},
     "output_type": "execute_result"
    }
   ],
   "source": [
    "header_strings[3]"
   ]
  },
  {
   "cell_type": "markdown",
   "id": "63afbf2e",
   "metadata": {},
   "source": [
    "### converting subgrade into integers"
   ]
  },
  {
   "cell_type": "code",
   "execution_count": 64,
   "id": "e766e6b6",
   "metadata": {},
   "outputs": [
    {
     "data": {
      "text/plain": [
       "array(['A1', 'A2', 'A3', 'A4', 'A5', 'B1', 'B2', 'B3', 'B4', 'B5', 'C1', 'C2', 'C3', 'C4', 'C5',\n",
       "       'D1', 'D2', 'D3', 'D4', 'D5', 'E1', 'E2', 'E3', 'E4', 'E5', 'F1', 'F2', 'F3', 'F4', 'F5',\n",
       "       'G1', 'G2', 'G3', 'G4', 'G5', 'H1'], dtype='<U69')"
      ]
     },
     "execution_count": 64,
     "metadata": {},
     "output_type": "execute_result"
    }
   ],
   "source": [
    "np.unique(loan_data_strings[:,3])"
   ]
  },
  {
   "cell_type": "code",
   "execution_count": 65,
   "id": "5caf28ce",
   "metadata": {},
   "outputs": [],
   "source": [
    "keys = list(np.unique(loan_data_strings[:,3]))\n",
    "values = list(range(1, len(keys) + 1))\n",
    "dict_sub_grade = dict(zip(keys, values))\n"
   ]
  },
  {
   "cell_type": "code",
   "execution_count": 66,
   "id": "dda8614c",
   "metadata": {},
   "outputs": [
    {
     "data": {
      "text/plain": [
       "{'A1': 1,\n",
       " 'A2': 2,\n",
       " 'A3': 3,\n",
       " 'A4': 4,\n",
       " 'A5': 5,\n",
       " 'B1': 6,\n",
       " 'B2': 7,\n",
       " 'B3': 8,\n",
       " 'B4': 9,\n",
       " 'B5': 10,\n",
       " 'C1': 11,\n",
       " 'C2': 12,\n",
       " 'C3': 13,\n",
       " 'C4': 14,\n",
       " 'C5': 15,\n",
       " 'D1': 16,\n",
       " 'D2': 17,\n",
       " 'D3': 18,\n",
       " 'D4': 19,\n",
       " 'D5': 20,\n",
       " 'E1': 21,\n",
       " 'E2': 22,\n",
       " 'E3': 23,\n",
       " 'E4': 24,\n",
       " 'E5': 25,\n",
       " 'F1': 26,\n",
       " 'F2': 27,\n",
       " 'F3': 28,\n",
       " 'F4': 29,\n",
       " 'F5': 30,\n",
       " 'G1': 31,\n",
       " 'G2': 32,\n",
       " 'G3': 33,\n",
       " 'G4': 34,\n",
       " 'G5': 35,\n",
       " 'H1': 36}"
      ]
     },
     "execution_count": 66,
     "metadata": {},
     "output_type": "execute_result"
    }
   ],
   "source": [
    "dict_sub_grade"
   ]
  },
  {
   "cell_type": "markdown",
   "id": "e9155eb4",
   "metadata": {},
   "source": [
    "##### replacing associated values with it"
   ]
  },
  {
   "cell_type": "code",
   "execution_count": 67,
   "id": "c77715dc",
   "metadata": {},
   "outputs": [],
   "source": [
    "for i in np.unique(loan_data_strings[:,3]):\n",
    "    loan_data_strings[:,3]= np.where(loan_data_strings[:,3]== i ,\n",
    "                                    dict_sub_grade[i],\n",
    "                                    loan_data_strings[:,3])"
   ]
  },
  {
   "cell_type": "code",
   "execution_count": 68,
   "id": "00c9bfcb",
   "metadata": {},
   "outputs": [
    {
     "data": {
      "text/plain": [
       "array(['1', '10', '11', '12', '13', '14', '15', '16', '17', '18', '19', '2', '20', '21', '22',\n",
       "       '23', '24', '25', '26', '27', '28', '29', '3', '30', '31', '32', '33', '34', '35', '36',\n",
       "       '4', '5', '6', '7', '8', '9'], dtype='<U69')"
      ]
     },
     "execution_count": 68,
     "metadata": {},
     "output_type": "execute_result"
    }
   ],
   "source": [
    "np.unique(loan_data_strings[:,3])"
   ]
  },
  {
   "cell_type": "markdown",
   "id": "98afd371",
   "metadata": {},
   "source": [
    "# 8) Manipulating Text Data : Verification Status & URL"
   ]
  },
  {
   "cell_type": "code",
   "execution_count": 69,
   "id": "3293be2a",
   "metadata": {},
   "outputs": [
    {
     "data": {
      "text/plain": [
       "array(['issue_date', 'loan_status', 'term_months', 'sub_grade', 'verification_status', 'url',\n",
       "       'addr_state'], dtype='<U19')"
      ]
     },
     "execution_count": 69,
     "metadata": {},
     "output_type": "execute_result"
    }
   ],
   "source": [
    "header_strings"
   ]
  },
  {
   "cell_type": "code",
   "execution_count": 70,
   "id": "4c95b8c9",
   "metadata": {},
   "outputs": [
    {
     "data": {
      "text/plain": [
       "array(['', 'Not Verified', 'Source Verified', 'Verified'], dtype='<U69')"
      ]
     },
     "execution_count": 70,
     "metadata": {},
     "output_type": "execute_result"
    }
   ],
   "source": [
    "np.unique(loan_data_strings[:,4])"
   ]
  },
  {
   "cell_type": "markdown",
   "id": "85b772c5",
   "metadata": {},
   "source": [
    "source verified = loan verified which includes investors backing\n",
    "\n",
    "so we can assume that **source verified and verified as good** and \n",
    " \n",
    " \n",
    "**not verified and '' as bad**\n",
    "\n",
    "so **we convert good as 1 and bad as 0**\n"
   ]
  },
  {
   "cell_type": "code",
   "execution_count": 71,
   "id": "631acf30",
   "metadata": {},
   "outputs": [],
   "source": [
    "loan_data_strings[:,4] = np.where((loan_data_strings[:,4]=='') | (loan_data_strings[:,4]== 'Not Verified'),0,1)"
   ]
  },
  {
   "cell_type": "code",
   "execution_count": 72,
   "id": "9ac67510",
   "metadata": {},
   "outputs": [
    {
     "data": {
      "text/plain": [
       "array(['0', '1'], dtype='<U69')"
      ]
     },
     "execution_count": 72,
     "metadata": {},
     "output_type": "execute_result"
    }
   ],
   "source": [
    "np.unique(loan_data_strings[:,4])"
   ]
  },
  {
   "cell_type": "markdown",
   "id": "c881c705",
   "metadata": {},
   "source": [
    "## URL"
   ]
  },
  {
   "cell_type": "code",
   "execution_count": 73,
   "id": "c31db0c2",
   "metadata": {},
   "outputs": [
    {
     "data": {
      "text/plain": [
       "array(['https://www.lendingclub.com/browse/loanDetail.action?loan_id=48010226',\n",
       "       'https://www.lendingclub.com/browse/loanDetail.action?loan_id=57693261',\n",
       "       'https://www.lendingclub.com/browse/loanDetail.action?loan_id=59432726', ...,\n",
       "       'https://www.lendingclub.com/browse/loanDetail.action?loan_id=50415990',\n",
       "       'https://www.lendingclub.com/browse/loanDetail.action?loan_id=46154151',\n",
       "       'https://www.lendingclub.com/browse/loanDetail.action?loan_id=66055249'], dtype='<U69')"
      ]
     },
     "execution_count": 73,
     "metadata": {},
     "output_type": "execute_result"
    }
   ],
   "source": [
    "loan_data_strings[:,5]"
   ]
  },
  {
   "cell_type": "code",
   "execution_count": 74,
   "id": "6993123d",
   "metadata": {},
   "outputs": [],
   "source": [
    "loan_data_strings[:,5] = np.chararray.strip(loan_data_strings[:,5],\"https://www.lendingclub.com/browse/loanDetail.action?loan_id=\" )"
   ]
  },
  {
   "cell_type": "code",
   "execution_count": 75,
   "id": "e4e34d21",
   "metadata": {},
   "outputs": [],
   "source": [
    "a = loan_data_strings[:,5].astype(dtype= int)"
   ]
  },
  {
   "cell_type": "code",
   "execution_count": 76,
   "id": "adac18af",
   "metadata": {},
   "outputs": [],
   "source": [
    "b = loan_data_numeric[:,0].astype(dtype = int)"
   ]
  },
  {
   "cell_type": "code",
   "execution_count": 77,
   "id": "ba238577",
   "metadata": {},
   "outputs": [
    {
     "data": {
      "text/plain": [
       "True"
      ]
     },
     "execution_count": 77,
     "metadata": {},
     "output_type": "execute_result"
    }
   ],
   "source": [
    "np.array_equal(a,b)"
   ]
  },
  {
   "cell_type": "markdown",
   "id": "541dc7a5",
   "metadata": {},
   "source": [
    "we can see both have same values so we remove this column"
   ]
  },
  {
   "cell_type": "code",
   "execution_count": 78,
   "id": "547dc6dd",
   "metadata": {},
   "outputs": [],
   "source": [
    "loan_data_strings = np.delete(loan_data_strings, 5, axis = 1)\n",
    "header_strings = np.delete(header_strings, 5)"
   ]
  },
  {
   "cell_type": "code",
   "execution_count": 79,
   "id": "d88e1801",
   "metadata": {},
   "outputs": [
    {
     "data": {
      "text/plain": [
       "array([['9', '1', '36', '13', '1', 'CA'],\n",
       "       ['0', '1', '36', '5', '1', 'NY'],\n",
       "       ['12', '1', '36', '10', '1', 'PA'],\n",
       "       ...,\n",
       "       ['7', '1', '36', '5', '1', 'CA'],\n",
       "       ['1', '1', '36', '17', '1', 'OH'],\n",
       "       ['3', '1', '36', '4', '0', 'IL']], dtype='<U69')"
      ]
     },
     "execution_count": 79,
     "metadata": {},
     "output_type": "execute_result"
    }
   ],
   "source": [
    "loan_data_strings"
   ]
  },
  {
   "cell_type": "markdown",
   "id": "12dfd0af",
   "metadata": {},
   "source": [
    "# 9)Manipulating Text Data: State Address"
   ]
  },
  {
   "cell_type": "code",
   "execution_count": 80,
   "id": "3d42b415",
   "metadata": {},
   "outputs": [
    {
     "data": {
      "text/plain": [
       "array(['issue_date', 'loan_status', 'term_months', 'sub_grade', 'verification_status',\n",
       "       'addr_state'], dtype='<U19')"
      ]
     },
     "execution_count": 80,
     "metadata": {},
     "output_type": "execute_result"
    }
   ],
   "source": [
    "header_strings"
   ]
  },
  {
   "cell_type": "code",
   "execution_count": 81,
   "id": "d37d0a15",
   "metadata": {},
   "outputs": [
    {
     "data": {
      "text/plain": [
       "'addr_state'"
      ]
     },
     "execution_count": 81,
     "metadata": {},
     "output_type": "execute_result"
    }
   ],
   "source": [
    "header_strings[5]"
   ]
  },
  {
   "cell_type": "code",
   "execution_count": 82,
   "id": "c2465ce3",
   "metadata": {},
   "outputs": [
    {
     "data": {
      "text/plain": [
       "array(['CA', 'NY', 'PA', ..., 'CA', 'OH', 'IL'], dtype='<U69')"
      ]
     },
     "execution_count": 82,
     "metadata": {},
     "output_type": "execute_result"
    }
   ],
   "source": [
    "loan_data_strings[:,5]"
   ]
  },
  {
   "cell_type": "code",
   "execution_count": 83,
   "id": "2d0289c7",
   "metadata": {},
   "outputs": [
    {
     "data": {
      "text/plain": [
       "array(['', 'AK', 'AL', 'AR', 'AZ', 'CA', 'CO', 'CT', 'DC', 'DE', 'FL', 'GA', 'HI', 'IL', 'IN',\n",
       "       'KS', 'KY', 'LA', 'MA', 'MD', 'ME', 'MI', 'MN', 'MO', 'MS', 'MT', 'NC', 'ND', 'NE', 'NH',\n",
       "       'NJ', 'NM', 'NV', 'NY', 'OH', 'OK', 'OR', 'PA', 'RI', 'SC', 'SD', 'TN', 'TX', 'UT', 'VA',\n",
       "       'VT', 'WA', 'WI', 'WV', 'WY'], dtype='<U69')"
      ]
     },
     "execution_count": 83,
     "metadata": {},
     "output_type": "execute_result"
    }
   ],
   "source": [
    "np.unique(loan_data_strings[:,5])"
   ]
  },
  {
   "cell_type": "code",
   "execution_count": 84,
   "id": "e70e26da",
   "metadata": {},
   "outputs": [
    {
     "data": {
      "text/plain": [
       "50"
      ]
     },
     "execution_count": 84,
     "metadata": {},
     "output_type": "execute_result"
    }
   ],
   "source": [
    "np.unique(loan_data_strings[:,5]).size"
   ]
  },
  {
   "cell_type": "code",
   "execution_count": 85,
   "id": "8218b628",
   "metadata": {},
   "outputs": [
    {
     "data": {
      "text/plain": [
       "(array(['', 'AK', 'AL', 'AR', 'AZ', 'CA', 'CO', 'CT', 'DC', 'DE', 'FL', 'GA', 'HI', 'IL', 'IN',\n",
       "        'KS', 'KY', 'LA', 'MA', 'MD', 'ME', 'MI', 'MN', 'MO', 'MS', 'MT', 'NC', 'ND', 'NE', 'NH',\n",
       "        'NJ', 'NM', 'NV', 'NY', 'OH', 'OK', 'OR', 'PA', 'RI', 'SC', 'SD', 'TN', 'TX', 'UT', 'VA',\n",
       "        'VT', 'WA', 'WI', 'WV', 'WY'], dtype='<U69'),\n",
       " array([ 500,   26,  119,   74,  220, 1336,  201,  143,   27,   27,  690,  321,   44,  389,  152,\n",
       "          84,   84,  116,  210,  222,   10,  267,  156,  160,   61,   28,  261,   16,   25,   58,\n",
       "         341,   57,  130,  777,  312,   83,  108,  320,   40,  107,   24,  143,  758,   74,  242,\n",
       "          17,  216,  148,   49,   27], dtype=int64))"
      ]
     },
     "execution_count": 85,
     "metadata": {},
     "output_type": "execute_result"
    }
   ],
   "source": [
    "np.unique(loan_data_strings[:,5], return_counts = True)"
   ]
  },
  {
   "cell_type": "markdown",
   "id": "6702c696",
   "metadata": {},
   "source": [
    "assigning variables to both"
   ]
  },
  {
   "cell_type": "code",
   "execution_count": 86,
   "id": "cd2a7c1c",
   "metadata": {},
   "outputs": [
    {
     "data": {
      "text/plain": [
       "(array(['CA', 'NY', 'TX', 'FL', '', 'IL', 'NJ', 'GA', 'PA', 'OH', 'MI', 'NC', 'VA', 'MD', 'AZ',\n",
       "        'WA', 'MA', 'CO', 'MO', 'MN', 'IN', 'WI', 'CT', 'TN', 'NV', 'AL', 'LA', 'OR', 'SC', 'KY',\n",
       "        'KS', 'OK', 'UT', 'AR', 'MS', 'NH', 'NM', 'WV', 'HI', 'RI', 'MT', 'DE', 'DC', 'WY', 'AK',\n",
       "        'NE', 'SD', 'VT', 'ND', 'ME'], dtype='<U69'),\n",
       " array([1336,  777,  758,  690,  500,  389,  341,  321,  320,  312,  267,  261,  242,  222,  220,\n",
       "         216,  210,  201,  160,  156,  152,  148,  143,  143,  130,  119,  116,  108,  107,   84,\n",
       "          84,   83,   74,   74,   61,   58,   57,   49,   44,   40,   28,   27,   27,   27,   26,\n",
       "          25,   24,   17,   16,   10], dtype=int64))"
      ]
     },
     "execution_count": 86,
     "metadata": {},
     "output_type": "execute_result"
    }
   ],
   "source": [
    "states_names, states_count =np.unique(loan_data_strings[:,5], return_counts = True)\n",
    "#sorting\n",
    "states_count_sorted = np.argsort(-states_count)\n",
    "states_names[states_count_sorted], states_count[states_count_sorted]"
   ]
  },
  {
   "cell_type": "markdown",
   "id": "c26d5048",
   "metadata": {},
   "source": [
    "### Filling null values"
   ]
  },
  {
   "cell_type": "code",
   "execution_count": 87,
   "id": "13b00ae6",
   "metadata": {},
   "outputs": [
    {
     "data": {
      "text/plain": [
       "array(['0', 'AK', 'AL', 'AR', 'AZ', 'CA', 'CO', 'CT', 'DC', 'DE', 'FL', 'GA', 'HI', 'IL', 'IN',\n",
       "       'KS', 'KY', 'LA', 'MA', 'MD', 'ME', 'MI', 'MN', 'MO', 'MS', 'MT', 'NC', 'ND', 'NE', 'NH',\n",
       "       'NJ', 'NM', 'NV', 'NY', 'OH', 'OK', 'OR', 'PA', 'RI', 'SC', 'SD', 'TN', 'TX', 'UT', 'VA',\n",
       "       'VT', 'WA', 'WI', 'WV', 'WY'], dtype='<U69')"
      ]
     },
     "execution_count": 87,
     "metadata": {},
     "output_type": "execute_result"
    }
   ],
   "source": [
    "loan_data_strings[:,5]= np.where(loan_data_strings[:,5]=='',0,loan_data_strings[:,5] )\n",
    "#checking\n",
    "np.unique(loan_data_strings[:,5])"
   ]
  },
  {
   "cell_type": "markdown",
   "id": "4560e964",
   "metadata": {},
   "source": [
    "in few states there are very few data to examine indivually so gonna group them in regions"
   ]
  },
  {
   "cell_type": "markdown",
   "id": "2c82cc62",
   "metadata": {},
   "source": [
    "https://www2.census.gov/geo/pdfs/maps-data/maps/loan_data_strings[:,5]reference/us_regdiv.pdf"
   ]
  },
  {
   "cell_type": "code",
   "execution_count": 88,
   "id": "7fa60975",
   "metadata": {},
   "outputs": [],
   "source": [
    "states_west = np.array(['WA', 'OR','CA','NV','ID','MT', 'WY','UT','CO', 'AZ','NM','HI','AK'])\n",
    "states_south = np.array(['TX','OK','AR','LA','MS','AL','TN','KY','FL','GA','SC','NC','VA','WV','MD','DE','DC'])\n",
    "states_midwest = np.array(['ND','SD','NE','KS','MN','IA','MO','WI','IL','IN','MI','OH'])\n",
    "states_east = np.array(['PA','NY','NJ','CT','MA','VT','NH','ME','RI'])"
   ]
  },
  {
   "cell_type": "markdown",
   "id": "9b54b331",
   "metadata": {},
   "source": [
    "assigning numbers to each region accordingly for numerical ananlysis"
   ]
  },
  {
   "cell_type": "code",
   "execution_count": 89,
   "id": "b2647781",
   "metadata": {},
   "outputs": [],
   "source": [
    "loan_data_strings[:,5] = np.where(np.isin(loan_data_strings[:,5], states_west), 1, loan_data_strings[:,5])\n",
    "loan_data_strings[:,5] = np.where(np.isin(loan_data_strings[:,5], states_south), 2, loan_data_strings[:,5])\n",
    "loan_data_strings[:,5] = np.where(np.isin(loan_data_strings[:,5], states_midwest), 3, loan_data_strings[:,5])\n",
    "loan_data_strings[:,5] = np.where(np.isin(loan_data_strings[:,5], states_east), 4, loan_data_strings[:,5])"
   ]
  },
  {
   "cell_type": "code",
   "execution_count": 90,
   "id": "045ea420",
   "metadata": {},
   "outputs": [
    {
     "data": {
      "text/plain": [
       "array(['0', '1', '2', '3', '4'], dtype='<U69')"
      ]
     },
     "execution_count": 90,
     "metadata": {},
     "output_type": "execute_result"
    }
   ],
   "source": [
    "np.unique(loan_data_strings[:,5])"
   ]
  },
  {
   "cell_type": "markdown",
   "id": "d4eec584",
   "metadata": {},
   "source": [
    "# 10) 213. Manipulating Text Data: Converting Strings and Creating a Checkpoint\n",
    "\n",
    "## converting to numbers"
   ]
  },
  {
   "cell_type": "code",
   "execution_count": 91,
   "id": "28619d70",
   "metadata": {},
   "outputs": [
    {
     "data": {
      "text/plain": [
       "array([['9', '1', '36', '13', '1', '1'],\n",
       "       ['0', '1', '36', '5', '1', '4'],\n",
       "       ['12', '1', '36', '10', '1', '4'],\n",
       "       ...,\n",
       "       ['7', '1', '36', '5', '1', '1'],\n",
       "       ['1', '1', '36', '17', '1', '3'],\n",
       "       ['3', '1', '36', '4', '0', '3']], dtype='<U69')"
      ]
     },
     "execution_count": 91,
     "metadata": {},
     "output_type": "execute_result"
    }
   ],
   "source": [
    "loan_data_strings"
   ]
  },
  {
   "cell_type": "code",
   "execution_count": 92,
   "id": "1977b7f1",
   "metadata": {},
   "outputs": [
    {
     "data": {
      "text/plain": [
       "array([[ 9,  1, 36, 13,  1,  1],\n",
       "       [ 0,  1, 36,  5,  1,  4],\n",
       "       [12,  1, 36, 10,  1,  4],\n",
       "       ...,\n",
       "       [ 7,  1, 36,  5,  1,  1],\n",
       "       [ 1,  1, 36, 17,  1,  3],\n",
       "       [ 3,  1, 36,  4,  0,  3]])"
      ]
     },
     "execution_count": 92,
     "metadata": {},
     "output_type": "execute_result"
    }
   ],
   "source": [
    "loan_data_strings = np.int32(loan_data_strings)\n",
    "loan_data_strings"
   ]
  },
  {
   "cell_type": "markdown",
   "id": "9c39688d",
   "metadata": {},
   "source": [
    "### Making Checkpoint"
   ]
  },
  {
   "cell_type": "code",
   "execution_count": 93,
   "id": "59c3c2cb",
   "metadata": {},
   "outputs": [],
   "source": [
    "checkpoint_strings = checkpoints(\"Checkpoints-Strings\", header_strings, loan_data_strings)"
   ]
  },
  {
   "cell_type": "code",
   "execution_count": 94,
   "id": "3f2c5269",
   "metadata": {},
   "outputs": [
    {
     "data": {
      "text/plain": [
       "array(['issue_date', 'loan_status', 'term_months', 'sub_grade', 'verification_status',\n",
       "       'addr_state'], dtype='<U19')"
      ]
     },
     "execution_count": 94,
     "metadata": {},
     "output_type": "execute_result"
    }
   ],
   "source": [
    "checkpoint_strings[\"header\"]"
   ]
  },
  {
   "cell_type": "code",
   "execution_count": 95,
   "id": "d22a3ced",
   "metadata": {},
   "outputs": [
    {
     "data": {
      "text/plain": [
       "array([[ 9,  1, 36, 13,  1,  1],\n",
       "       [ 0,  1, 36,  5,  1,  4],\n",
       "       [12,  1, 36, 10,  1,  4],\n",
       "       ...,\n",
       "       [ 7,  1, 36,  5,  1,  1],\n",
       "       [ 1,  1, 36, 17,  1,  3],\n",
       "       [ 3,  1, 36,  4,  0,  3]])"
      ]
     },
     "execution_count": 95,
     "metadata": {},
     "output_type": "execute_result"
    }
   ],
   "source": [
    "checkpoint_strings[\"data\"]"
   ]
  },
  {
   "cell_type": "markdown",
   "id": "e94b694d",
   "metadata": {},
   "source": [
    "### checkking where equal to or not\n",
    "\n"
   ]
  },
  {
   "cell_type": "code",
   "execution_count": 96,
   "id": "de94ba16",
   "metadata": {},
   "outputs": [
    {
     "data": {
      "text/plain": [
       "array([[ 9,  1, 36, 13,  1,  1],\n",
       "       [ 0,  1, 36,  5,  1,  4],\n",
       "       [12,  1, 36, 10,  1,  4],\n",
       "       ...,\n",
       "       [ 7,  1, 36,  5,  1,  1],\n",
       "       [ 1,  1, 36, 17,  1,  3],\n",
       "       [ 3,  1, 36,  4,  0,  3]])"
      ]
     },
     "execution_count": 96,
     "metadata": {},
     "output_type": "execute_result"
    }
   ],
   "source": [
    "loan_data_strings\n"
   ]
  },
  {
   "cell_type": "markdown",
   "id": "fe10a1a5",
   "metadata": {},
   "source": [
    "seems both look similar so going to verify"
   ]
  },
  {
   "cell_type": "code",
   "execution_count": 97,
   "id": "9d185ba8",
   "metadata": {},
   "outputs": [
    {
     "data": {
      "text/plain": [
       "True"
      ]
     },
     "execution_count": 97,
     "metadata": {},
     "output_type": "execute_result"
    }
   ],
   "source": [
    "np.array_equal(checkpoint_strings[\"data\"],loan_data_strings)"
   ]
  },
  {
   "cell_type": "markdown",
   "id": "defab79d",
   "metadata": {},
   "source": [
    "# 11) Manipulating Numeric Data : Substituting Filler Values"
   ]
  },
  {
   "cell_type": "markdown",
   "id": "c66bb91f",
   "metadata": {},
   "source": [
    "## Manipulating Numeric Columns"
   ]
  },
  {
   "cell_type": "code",
   "execution_count": 98,
   "id": "842e8712",
   "metadata": {},
   "outputs": [
    {
     "data": {
      "text/plain": [
       "array([[48010226.  ,    35000.  ,    35000.  ,       13.33,     1184.86,     9452.96],\n",
       "       [57693261.  ,    30000.  ,    30000.  , 68616520.  ,      938.57,     4679.7 ],\n",
       "       [59432726.  ,    15000.  ,    15000.  , 68616520.  ,      494.86,     1969.83],\n",
       "       ...,\n",
       "       [50415990.  ,    10000.  ,    10000.  , 68616520.  , 68616520.  ,     2185.64],\n",
       "       [46154151.  , 68616520.  ,    10000.  ,       16.55,      354.3 ,     3199.4 ],\n",
       "       [66055249.  ,    10000.  ,    10000.  , 68616520.  ,      309.97,      301.9 ]])"
      ]
     },
     "execution_count": 98,
     "metadata": {},
     "output_type": "execute_result"
    }
   ],
   "source": [
    "loan_data_numeric"
   ]
  },
  {
   "cell_type": "code",
   "execution_count": 99,
   "id": "62e33c31",
   "metadata": {},
   "outputs": [
    {
     "data": {
      "text/plain": [
       "0"
      ]
     },
     "execution_count": 99,
     "metadata": {},
     "output_type": "execute_result"
    }
   ],
   "source": [
    "np.isnan(loan_data_numeric).sum()\n",
    "#checking missing values"
   ]
  },
  {
   "cell_type": "markdown",
   "id": "355b6d20",
   "metadata": {},
   "source": [
    "## Substituting \"Filler\" Values"
   ]
  },
  {
   "cell_type": "code",
   "execution_count": 100,
   "id": "b575919e",
   "metadata": {},
   "outputs": [
    {
     "data": {
      "text/plain": [
       "array(['id', 'loan_amnt', 'funded_amnt', 'int_rate', 'installment', 'total_pymnt'], dtype='<U19')"
      ]
     },
     "execution_count": 100,
     "metadata": {},
     "output_type": "execute_result"
    }
   ],
   "source": [
    "header_numeric"
   ]
  },
  {
   "cell_type": "code",
   "execution_count": 101,
   "id": "e983e41f",
   "metadata": {},
   "outputs": [
    {
     "data": {
      "text/plain": [
       "68616520.0"
      ]
     },
     "execution_count": 101,
     "metadata": {},
     "output_type": "execute_result"
    }
   ],
   "source": [
    "temp_fill"
   ]
  },
  {
   "cell_type": "markdown",
   "id": "c6a8e857",
   "metadata": {},
   "source": [
    "checking how many times we filled missing values in the first column and 500 in second column"
   ]
  },
  {
   "cell_type": "markdown",
   "id": "aed8390d",
   "metadata": {},
   "source": [
    "### ID"
   ]
  },
  {
   "cell_type": "code",
   "execution_count": 102,
   "id": "6f84e609",
   "metadata": {},
   "outputs": [
    {
     "data": {
      "text/plain": [
       "0"
      ]
     },
     "execution_count": 102,
     "metadata": {},
     "output_type": "execute_result"
    }
   ],
   "source": [
    "np.isin(loan_data_numeric[:,0], temp_fill).sum()"
   ]
  },
  {
   "cell_type": "code",
   "execution_count": 103,
   "id": "64561d44",
   "metadata": {},
   "outputs": [
    {
     "data": {
      "text/plain": [
       "500"
      ]
     },
     "execution_count": 103,
     "metadata": {},
     "output_type": "execute_result"
    }
   ],
   "source": [
    "np.isin(loan_data_numeric[:,1], temp_fill).sum()"
   ]
  },
  {
   "cell_type": "code",
   "execution_count": 104,
   "id": "5710089b",
   "metadata": {},
   "outputs": [
    {
     "data": {
      "text/plain": [
       "array(['id', 'loan_amnt', 'funded_amnt', 'int_rate', 'installment', 'total_pymnt'], dtype='<U19')"
      ]
     },
     "execution_count": 104,
     "metadata": {},
     "output_type": "execute_result"
    }
   ],
   "source": [
    "header_numeric"
   ]
  },
  {
   "cell_type": "markdown",
   "id": "4853d99f",
   "metadata": {},
   "source": [
    "### Temporary Stats"
   ]
  },
  {
   "cell_type": "code",
   "execution_count": 105,
   "id": "532a3559",
   "metadata": {},
   "outputs": [
    {
     "data": {
      "text/plain": [
       "array([[  373332.  ,         nan,     1000.  ,         nan,     1000.  ,         nan,        6.  ,\n",
       "              31.42,         nan,         nan,         nan,         nan,         nan,        0.  ],\n",
       "       [54015809.19,         nan,    15273.46,         nan,    15311.04,         nan,       16.62,\n",
       "             440.92,         nan,         nan,         nan,         nan,         nan,     3143.85],\n",
       "       [68616519.  ,         nan,    35000.  ,         nan,    35000.  ,         nan,       28.99,\n",
       "            1372.97,         nan,         nan,         nan,         nan,         nan,    41913.62]])"
      ]
     },
     "execution_count": 105,
     "metadata": {},
     "output_type": "execute_result"
    }
   ],
   "source": [
    "temp_stats"
   ]
  },
  {
   "cell_type": "code",
   "execution_count": 106,
   "id": "6b9dc108",
   "metadata": {},
   "outputs": [
    {
     "data": {
      "text/plain": [
       "array([[  373332.  ,     1000.  ,     1000.  ,        6.  ,       31.42,        0.  ],\n",
       "       [54015809.19,    15273.46,    15311.04,       16.62,      440.92,     3143.85],\n",
       "       [68616519.  ,    35000.  ,    35000.  ,       28.99,     1372.97,    41913.62]])"
      ]
     },
     "execution_count": 106,
     "metadata": {},
     "output_type": "execute_result"
    }
   ],
   "source": [
    "temp_stats[:, num_column]\n",
    "#first row is temp min\n",
    "#second row is temp mean\n",
    "#third row is temp max"
   ]
  },
  {
   "cell_type": "markdown",
   "id": "23e709f8",
   "metadata": {},
   "source": [
    "## Funded amount\n",
    "its values should be minimum\n",
    "because\n",
    "\n",
    "\n",
    "    -Concentration Risk: This is the risk that a large portion of a lender's portfolio is concentrated in a particular industry, geographic region, or borrower.It increases the vulnerability to economic downturns or industry-specific shocks.  \n",
    "\n",
    "\n",
    "    -Default Risk: A larger loan amount implies a higher potential loss in case of default.\n",
    "   \n",
    "    -Regulatory Requirements: Many financial institutions are subject to regulatory capital requirements that increase with exposure to a single borrower."
   ]
  },
  {
   "cell_type": "code",
   "execution_count": 107,
   "id": "d0590b45",
   "metadata": {},
   "outputs": [
    {
     "data": {
      "text/plain": [
       "array([35000., 30000., 15000., ..., 10000., 10000., 10000.])"
      ]
     },
     "execution_count": 107,
     "metadata": {},
     "output_type": "execute_result"
    }
   ],
   "source": [
    "loan_data_numeric[:,2]"
   ]
  },
  {
   "cell_type": "code",
   "execution_count": 108,
   "id": "8277d9c2",
   "metadata": {},
   "outputs": [
    {
     "data": {
      "text/plain": [
       "array([35000., 30000., 15000., ..., 10000., 10000., 10000.])"
      ]
     },
     "execution_count": 108,
     "metadata": {},
     "output_type": "execute_result"
    }
   ],
   "source": [
    "loan_data_numeric[:,2] = np.where(loan_data_numeric[:,2]== temp_fill,\n",
    "                                 temp_stats[0, num_column[2]],\n",
    "                                 loan_data_numeric[:,2])\n",
    "loan_data_numeric[:,2]"
   ]
  },
  {
   "cell_type": "markdown",
   "id": "4386d6dd",
   "metadata": {},
   "source": [
    "### Assigning Max Temporary values to \n",
    "**Loaned Amount, Interest Rate , Installment, Total Payment**"
   ]
  },
  {
   "cell_type": "code",
   "execution_count": 109,
   "id": "9701186a",
   "metadata": {},
   "outputs": [
    {
     "data": {
      "text/plain": [
       "array(['loan_amnt', 'int_rate', 'installment', 'total_pymnt'], dtype='<U19')"
      ]
     },
     "execution_count": 109,
     "metadata": {},
     "output_type": "execute_result"
    }
   ],
   "source": [
    "header_numeric[[1,3,4,5]]\n"
   ]
  },
  {
   "cell_type": "code",
   "execution_count": 110,
   "id": "4dc060a3",
   "metadata": {},
   "outputs": [
    {
     "data": {
      "text/plain": [
       "array([[48010226.  , 68616520.  ,    35000.  , ..., 68616520.  , 68616520.  ,     9452.96],\n",
       "       [57693261.  , 68616520.  ,    30000.  , ..., 68616520.  , 68616520.  ,     4679.7 ],\n",
       "       [59432726.  , 68616520.  ,    15000.  , ..., 68616520.  , 68616520.  ,     1969.83],\n",
       "       ...,\n",
       "       [50415990.  , 68616520.  ,    10000.  , ..., 68616520.  , 68616520.  ,     2185.64],\n",
       "       [46154151.  , 68616520.  , 68616520.  , ..., 68616520.  , 68616520.  ,     3199.4 ],\n",
       "       [66055249.  , 68616520.  ,    10000.  , ..., 68616520.  , 68616520.  ,      301.9 ]])"
      ]
     },
     "execution_count": 110,
     "metadata": {},
     "output_type": "execute_result"
    }
   ],
   "source": [
    "filled_dataset\n",
    "#firstly checking temp filled dataset"
   ]
  },
  {
   "cell_type": "code",
   "execution_count": 111,
   "id": "40a1659c",
   "metadata": {},
   "outputs": [],
   "source": [
    "for i in[1,3,4,5]:\n",
    "    loan_data_numeric[:,i]= np.where(loan_data_numeric[:,i]== temp_fill,\n",
    "            temp_stats[0, num_column[i]],\n",
    "            loan_data_numeric[:,i])\n",
    "    \n",
    "    "
   ]
  },
  {
   "cell_type": "code",
   "execution_count": 112,
   "id": "78d1a041",
   "metadata": {},
   "outputs": [
    {
     "data": {
      "text/plain": [
       "array([[48010226.  ,    35000.  ,    35000.  ,       13.33,     1184.86,     9452.96],\n",
       "       [57693261.  ,    30000.  ,    30000.  ,        6.  ,      938.57,     4679.7 ],\n",
       "       [59432726.  ,    15000.  ,    15000.  ,        6.  ,      494.86,     1969.83],\n",
       "       ...,\n",
       "       [50415990.  ,    10000.  ,    10000.  ,        6.  ,       31.42,     2185.64],\n",
       "       [46154151.  ,     1000.  ,    10000.  ,       16.55,      354.3 ,     3199.4 ],\n",
       "       [66055249.  ,    10000.  ,    10000.  ,        6.  ,      309.97,      301.9 ]])"
      ]
     },
     "execution_count": 112,
     "metadata": {},
     "output_type": "execute_result"
    }
   ],
   "source": [
    "loan_data_numeric\n",
    "#now comparing with filled dataset are substituted with more fitting alternatives"
   ]
  },
  {
   "cell_type": "markdown",
   "id": "cfd286ba",
   "metadata": {},
   "source": [
    "# 12) Manipulating Numeric Data: Currency Change – The Exchange Rate\n",
    "## As our operations are Euro-Based so \n",
    "## Converting Dollar into Euros\n",
    "\n",
    "### The Exchange Rates"
   ]
  },
  {
   "cell_type": "code",
   "execution_count": 113,
   "id": "307ace02",
   "metadata": {},
   "outputs": [
    {
     "data": {
      "text/plain": [
       "array([[ nan,  nan,  nan,  nan,  nan],\n",
       "       [1.21, 1.21, 1.11, 1.13, 0.  ],\n",
       "       [1.13, 1.15, 1.12, 1.12, 0.  ],\n",
       "       [1.12, 1.12, 1.05, 1.08, 0.  ],\n",
       "       [1.07, 1.12, 1.05, 1.11, 0.  ],\n",
       "       [1.12, 1.15, 1.08, 1.1 , 0.  ],\n",
       "       [1.1 , 1.14, 1.09, 1.12, 0.  ],\n",
       "       [1.11, 1.12, 1.08, 1.09, 0.  ],\n",
       "       [1.1 , 1.17, 1.09, 1.13, 0.  ],\n",
       "       [1.12, 1.15, 1.11, 1.13, 0.  ],\n",
       "       [1.12, 1.15, 1.09, 1.1 , 0.  ],\n",
       "       [1.1 , 1.11, 1.06, 1.06, 0.  ],\n",
       "       [1.06, 1.11, 1.05, 1.09, 0.  ]])"
      ]
     },
     "execution_count": 113,
     "metadata": {},
     "output_type": "execute_result"
    }
   ],
   "source": [
    "EUR_USD = np.genfromtxt(r\"C:\\Users\\prana\\Downloads\\S28 - A Loan Data Example with NumPy\\EUR-USD.csv\", delimiter = ',', autostrip= True)\n",
    "EUR_USD"
   ]
  },
  {
   "cell_type": "markdown",
   "id": "237730e6",
   "metadata": {},
   "source": [
    "Checking the values of NAN"
   ]
  },
  {
   "cell_type": "code",
   "execution_count": 114,
   "id": "5c1d4157",
   "metadata": {},
   "outputs": [
    {
     "data": {
      "text/plain": [
       "array([['Open', 'High', 'Low', 'Close', 'Volume'],\n",
       "       ['1.2098628282546997', '1.2098628282546997', '1.11055588722229', '1.1287955045700073', '0'],\n",
       "       ['1.1287955045700073', '1.1484194993972778', '1.117680549621582', '1.1205360889434814',\n",
       "        '0'],\n",
       "       ['1.119795799255371', '1.1240400075912476', '1.0460032224655151', '1.0830246210098267',\n",
       "        '0'],\n",
       "       ['1.0741022825241089', '1.1247594356536865', '1.0521597862243652', '1.1114321947097778',\n",
       "        '0'],\n",
       "       ['1.1215037107467651', '1.145304799079895', '1.0821995735168457', '1.0960345268249512',\n",
       "        '0'],\n",
       "       ['1.095902442932129', '1.1428401470184326', '1.0888904333114624', '1.122296690940857', '0'],\n",
       "       ['1.1134989261627197', '1.1219995021820068', '1.081270456314087', '1.0939244031906128',\n",
       "        '0'],\n",
       "       ['1.0969001054763794', '1.1705996990203857', '1.0850305557250977', '1.1340054273605347',\n",
       "        '0'],\n",
       "       ['1.1225990056991577', '1.1460003852844238', '1.1089695692062378', '1.1255937814712524',\n",
       "        '0'],\n",
       "       ['1.1171561479568481', '1.1494200229644775', '1.0910003185272217', '1.100897192955017',\n",
       "        '0'],\n",
       "       ['1.1024993658065796', '1.1060001850128174', '1.056400179862976', '1.0583018064498901',\n",
       "        '0'],\n",
       "       ['1.0572947263717651', '1.107000470161438', '1.0541995763778687', '1.093398094177246', '0']],\n",
       "      dtype='<U18')"
      ]
     },
     "execution_count": 114,
     "metadata": {},
     "output_type": "execute_result"
    }
   ],
   "source": [
    "EUR_USD = np.genfromtxt(r\"C:\\Users\\prana\\Downloads\\S28 - A Loan Data Example with NumPy\\EUR-USD.csv\", delimiter = ',', dtype = str)\n",
    "EUR_USD"
   ]
  },
  {
   "cell_type": "code",
   "execution_count": 115,
   "id": "2f8ddbf0",
   "metadata": {},
   "outputs": [
    {
     "data": {
      "text/plain": [
       "array([ 9,  0, 12, ...,  7,  1,  3])"
      ]
     },
     "execution_count": 115,
     "metadata": {},
     "output_type": "execute_result"
    }
   ],
   "source": [
    "loan_data_strings[:,0]"
   ]
  },
  {
   "cell_type": "markdown",
   "id": "be962acd",
   "metadata": {},
   "source": [
    "## The Exchange Rate"
   ]
  },
  {
   "cell_type": "code",
   "execution_count": 116,
   "id": "dedc6961",
   "metadata": {},
   "outputs": [
    {
     "data": {
      "text/plain": [
       "array([1.13, 1.12, 1.08, 1.11, 1.1 , 1.12, 1.09, 1.13, 1.13, 1.1 , 1.06, 1.09])"
      ]
     },
     "execution_count": 116,
     "metadata": {},
     "output_type": "execute_result"
    }
   ],
   "source": [
    "EUR_USD = np.genfromtxt(r\"C:\\Users\\prana\\Downloads\\S28 - A Loan Data Example with NumPy\\EUR-USD.csv\",delimiter= ',' ,autostrip = True, skip_header = 1, usecols = 3)\n",
    "EUR_USD"
   ]
  },
  {
   "cell_type": "markdown",
   "id": "6f6e714f",
   "metadata": {},
   "source": [
    "### assigning the exchange rates to the months accordingly and mean to 0s"
   ]
  },
  {
   "cell_type": "code",
   "execution_count": 117,
   "id": "a3e62d81",
   "metadata": {},
   "outputs": [
    {
     "data": {
      "text/plain": [
       "array([1.13, 1.11, 1.09, ..., 1.09, 1.13, 1.08])"
      ]
     },
     "execution_count": 117,
     "metadata": {},
     "output_type": "execute_result"
    }
   ],
   "source": [
    "exchange_rate = loan_data_strings[:,0]\n",
    "for i in range(1,13):\n",
    "    exchange_rate = np.where(exchange_rate == i,\n",
    "    EUR_USD[i-1],\n",
    "    exchange_rate)\n",
    "    \n",
    "exchange_rate = np.where(exchange_rate==0,\n",
    "                        np.mean(EUR_USD),\n",
    "                        exchange_rate)\n",
    "exchange_rate"
   ]
  },
  {
   "cell_type": "markdown",
   "id": "3cef67f1",
   "metadata": {},
   "source": [
    "#### Adding the new array to the data set"
   ]
  },
  {
   "cell_type": "code",
   "execution_count": 118,
   "id": "904b0c67",
   "metadata": {},
   "outputs": [
    {
     "data": {
      "text/plain": [
       "(10000,)"
      ]
     },
     "execution_count": 118,
     "metadata": {},
     "output_type": "execute_result"
    }
   ],
   "source": [
    "exchange_rate.shape\n",
    "#it is 1-D"
   ]
  },
  {
   "cell_type": "code",
   "execution_count": 119,
   "id": "101ec6e0",
   "metadata": {},
   "outputs": [
    {
     "data": {
      "text/plain": [
       "(10000, 6)"
      ]
     },
     "execution_count": 119,
     "metadata": {},
     "output_type": "execute_result"
    }
   ],
   "source": [
    "loan_data_numeric.shape\n",
    "# it is 2-D"
   ]
  },
  {
   "cell_type": "markdown",
   "id": "abcf5913",
   "metadata": {},
   "source": [
    "exchange rate is 1-D so we reshape this array to the 2-D"
   ]
  },
  {
   "cell_type": "code",
   "execution_count": 120,
   "id": "bf231b1d",
   "metadata": {},
   "outputs": [],
   "source": [
    "exchange_rate  = np.reshape(exchange_rate, (10000,1))"
   ]
  },
  {
   "cell_type": "markdown",
   "id": "65085988",
   "metadata": {},
   "source": [
    "#### Merging new array to the dataset"
   ]
  },
  {
   "cell_type": "code",
   "execution_count": 121,
   "id": "ec645cad",
   "metadata": {
    "scrolled": true
   },
   "outputs": [
    {
     "data": {
      "text/plain": [
       "array([[48010226.  ,    35000.  ,    35000.  , ...,     1184.86,     9452.96,        1.13],\n",
       "       [57693261.  ,    30000.  ,    30000.  , ...,      938.57,     4679.7 ,        1.11],\n",
       "       [59432726.  ,    15000.  ,    15000.  , ...,      494.86,     1969.83,        1.09],\n",
       "       ...,\n",
       "       [50415990.  ,    10000.  ,    10000.  , ...,       31.42,     2185.64,        1.09],\n",
       "       [46154151.  ,     1000.  ,    10000.  , ...,      354.3 ,     3199.4 ,        1.13],\n",
       "       [66055249.  ,    10000.  ,    10000.  , ...,      309.97,      301.9 ,        1.08]])"
      ]
     },
     "execution_count": 121,
     "metadata": {},
     "output_type": "execute_result"
    }
   ],
   "source": [
    "loan_data_numeric=np.hstack((loan_data_numeric, exchange_rate))\n",
    "loan_data_numeric"
   ]
  },
  {
   "cell_type": "markdown",
   "id": "cbe4e474",
   "metadata": {},
   "source": [
    "#### now adding the new column name as exchange_rate"
   ]
  },
  {
   "cell_type": "code",
   "execution_count": 122,
   "id": "bf7b855c",
   "metadata": {},
   "outputs": [
    {
     "data": {
      "text/plain": [
       "array(['id', 'loan_amnt', 'funded_amnt', 'int_rate', 'installment', 'total_pymnt', 'exchange_rate'],\n",
       "      dtype='<U19')"
      ]
     },
     "execution_count": 122,
     "metadata": {},
     "output_type": "execute_result"
    }
   ],
   "source": [
    "header_numeric = np.concatenate((header_numeric, np.array([\"exchange_rate\"])))\n",
    "header_numeric"
   ]
  },
  {
   "cell_type": "markdown",
   "id": "ca4e3001",
   "metadata": {},
   "source": [
    "# 13) Manipulating Numeric Data: Currency Change - From USD to EUR"
   ]
  },
  {
   "cell_type": "markdown",
   "id": "7e7899f9",
   "metadata": {},
   "source": [
    "#### USD to Dollar"
   ]
  },
  {
   "cell_type": "code",
   "execution_count": 123,
   "id": "c66426b1",
   "metadata": {},
   "outputs": [
    {
     "data": {
      "text/plain": [
       "array(['id', 'loan_amnt', 'funded_amnt', 'int_rate', 'installment', 'total_pymnt', 'exchange_rate'],\n",
       "      dtype='<U19')"
      ]
     },
     "execution_count": 123,
     "metadata": {},
     "output_type": "execute_result"
    }
   ],
   "source": [
    "header_numeric\n",
    "# we gonna pull out Loan_amount, funded_amount, installment, total_payment "
   ]
  },
  {
   "cell_type": "code",
   "execution_count": 124,
   "id": "4c2b3167",
   "metadata": {},
   "outputs": [],
   "source": [
    "columns_dollar = np.array([1,2,4,5])"
   ]
  },
  {
   "cell_type": "code",
   "execution_count": 125,
   "id": "31724bdc",
   "metadata": {},
   "outputs": [
    {
     "data": {
      "text/plain": [
       "array([[[35000.  , 35000.  ,  1184.86,  9452.96]],\n",
       "\n",
       "       [[30000.  , 30000.  ,   938.57,  4679.7 ]],\n",
       "\n",
       "       [[15000.  , 15000.  ,   494.86,  1969.83]],\n",
       "\n",
       "       ...,\n",
       "\n",
       "       [[10000.  , 10000.  ,    31.42,  2185.64]],\n",
       "\n",
       "       [[ 1000.  , 10000.  ,   354.3 ,  3199.4 ]],\n",
       "\n",
       "       [[10000.  , 10000.  ,   309.97,   301.9 ]]])"
      ]
     },
     "execution_count": 125,
     "metadata": {},
     "output_type": "execute_result"
    }
   ],
   "source": [
    "loan_data_numeric[:,[columns_dollar]]"
   ]
  },
  {
   "cell_type": "code",
   "execution_count": 126,
   "id": "e7354adc",
   "metadata": {},
   "outputs": [
    {
     "data": {
      "text/plain": [
       "array([1.13, 1.11, 1.09, ..., 1.09, 1.13, 1.08])"
      ]
     },
     "execution_count": 126,
     "metadata": {},
     "output_type": "execute_result"
    }
   ],
   "source": [
    "loan_data_numeric[:,6]"
   ]
  },
  {
   "cell_type": "markdown",
   "id": "5bc4e23d",
   "metadata": {},
   "source": [
    "## Converting USD into EURO"
   ]
  },
  {
   "cell_type": "code",
   "execution_count": 127,
   "id": "34cae243",
   "metadata": {},
   "outputs": [],
   "source": [
    "for i in columns_dollar:\n",
    "    loan_data_numeric = np.hstack((loan_data_numeric, np.reshape(loan_data_numeric[:,i] / loan_data_numeric[:,6],(10000,1))))\n"
   ]
  },
  {
   "cell_type": "markdown",
   "id": "2967642f",
   "metadata": {},
   "source": [
    "now we added few more columns a per EURO rates\n",
    "\n",
    "verifying-\n"
   ]
  },
  {
   "cell_type": "code",
   "execution_count": 128,
   "id": "e2328036",
   "metadata": {},
   "outputs": [
    {
     "data": {
      "text/plain": [
       "array([[48010226.  ,    35000.  ,    35000.  , ...,    31094.7 ,     1052.65,     8398.2 ],\n",
       "       [57693261.  ,    30000.  ,    30000.  , ...,    27132.46,      848.86,     4232.39],\n",
       "       [59432726.  ,    15000.  ,    15000.  , ...,    13718.7 ,      452.59,     1801.57],\n",
       "       ...,\n",
       "       [50415990.  ,    10000.  ,    10000.  , ...,     9141.4 ,       28.72,     1997.98],\n",
       "       [46154151.  ,     1000.  ,    10000.  , ...,     8859.  ,      313.87,     2834.35],\n",
       "       [66055249.  ,    10000.  ,    10000.  , ...,     9233.4 ,      286.21,      278.76]])"
      ]
     },
     "execution_count": 128,
     "metadata": {},
     "output_type": "execute_result"
    }
   ],
   "source": [
    "loan_data_numeric"
   ]
  },
  {
   "cell_type": "code",
   "execution_count": 129,
   "id": "574e9b82",
   "metadata": {},
   "outputs": [
    {
     "data": {
      "text/plain": [
       "(10000, 11)"
      ]
     },
     "execution_count": 129,
     "metadata": {},
     "output_type": "execute_result"
    }
   ],
   "source": [
    "loan_data_numeric.shape"
   ]
  },
  {
   "cell_type": "markdown",
   "id": "e3fcd096",
   "metadata": {},
   "source": [
    "### Assigning Header to these columns"
   ]
  },
  {
   "cell_type": "code",
   "execution_count": 130,
   "id": "c23dcc34",
   "metadata": {},
   "outputs": [],
   "source": [
    "header_additional = np.array([column_name +\"_EUR\" for column_name in header_numeric[columns_dollar]])"
   ]
  },
  {
   "cell_type": "code",
   "execution_count": 131,
   "id": "ee5cb56d",
   "metadata": {},
   "outputs": [
    {
     "data": {
      "text/plain": [
       "array(['loan_amnt_EUR', 'funded_amnt_EUR', 'installment_EUR', 'total_pymnt_EUR'], dtype='<U15')"
      ]
     },
     "execution_count": 131,
     "metadata": {},
     "output_type": "execute_result"
    }
   ],
   "source": [
    "header_additional"
   ]
  },
  {
   "cell_type": "markdown",
   "id": "8c4fbcb6",
   "metadata": {},
   "source": [
    "#### Adding new header columnn to existing header columns"
   ]
  },
  {
   "cell_type": "code",
   "execution_count": 132,
   "id": "1a8e743c",
   "metadata": {},
   "outputs": [],
   "source": [
    "header_numeric =np.concatenate([header_numeric,header_additional])"
   ]
  },
  {
   "cell_type": "code",
   "execution_count": 133,
   "id": "80e4b33e",
   "metadata": {},
   "outputs": [
    {
     "data": {
      "text/plain": [
       "array(['id', 'loan_amnt', 'funded_amnt', 'int_rate', 'installment', 'total_pymnt', 'exchange_rate',\n",
       "       'loan_amnt_EUR', 'funded_amnt_EUR', 'installment_EUR', 'total_pymnt_EUR'], dtype='<U19')"
      ]
     },
     "execution_count": 133,
     "metadata": {},
     "output_type": "execute_result"
    }
   ],
   "source": [
    "header_numeric"
   ]
  },
  {
   "cell_type": "markdown",
   "id": "8bdb9384",
   "metadata": {},
   "source": [
    "#### renaming normal header with USD"
   ]
  },
  {
   "cell_type": "code",
   "execution_count": 134,
   "id": "bb7193af",
   "metadata": {},
   "outputs": [
    {
     "data": {
      "text/plain": [
       "array(['id', 'loan_amnt_USD', 'funded_amnt_USD', 'int_rate', 'installment_USD', 'total_pymnt_USD',\n",
       "       'exchange_rate', 'loan_amnt_EUR', 'funded_amnt_EUR', 'installment_EUR', 'total_pymnt_EUR'],\n",
       "      dtype='<U19')"
      ]
     },
     "execution_count": 134,
     "metadata": {},
     "output_type": "execute_result"
    }
   ],
   "source": [
    "header_numeric[columns_dollar] = np.array([column_name +\"_USD\" for column_name in header_numeric[columns_dollar]])\n",
    "header_numeric"
   ]
  },
  {
   "cell_type": "markdown",
   "id": "b3bf08e3",
   "metadata": {},
   "source": [
    "### Assigning USD and EURO side by side"
   ]
  },
  {
   "cell_type": "code",
   "execution_count": 135,
   "id": "c722cf87",
   "metadata": {},
   "outputs": [],
   "source": [
    "columns_index_order = [0,1,7,2,8,3,4,9,5,10,6]"
   ]
  },
  {
   "cell_type": "code",
   "execution_count": 136,
   "id": "5f8c22ee",
   "metadata": {
    "scrolled": true
   },
   "outputs": [
    {
     "data": {
      "text/plain": [
       "array(['id', 'loan_amnt_USD', 'loan_amnt_EUR', 'funded_amnt_USD', 'funded_amnt_EUR', 'int_rate',\n",
       "       'installment_USD', 'installment_EUR', 'total_pymnt_USD', 'total_pymnt_EUR', 'exchange_rate'],\n",
       "      dtype='<U19')"
      ]
     },
     "execution_count": 136,
     "metadata": {},
     "output_type": "execute_result"
    }
   ],
   "source": [
    "header_numeric= header_numeric[columns_index_order]\n",
    "header_numeric"
   ]
  },
  {
   "cell_type": "markdown",
   "id": "82b7cee3",
   "metadata": {},
   "source": [
    "#### Assinging USD and EURO values side-by-side in loan_data_numeric too"
   ]
  },
  {
   "cell_type": "code",
   "execution_count": 137,
   "id": "47247f18",
   "metadata": {},
   "outputs": [
    {
     "data": {
      "text/plain": [
       "array([[48010226.  ,    35000.  ,    35000.  , ...,    31094.7 ,     1052.65,     8398.2 ],\n",
       "       [57693261.  ,    30000.  ,    30000.  , ...,    27132.46,      848.86,     4232.39],\n",
       "       [59432726.  ,    15000.  ,    15000.  , ...,    13718.7 ,      452.59,     1801.57],\n",
       "       ...,\n",
       "       [50415990.  ,    10000.  ,    10000.  , ...,     9141.4 ,       28.72,     1997.98],\n",
       "       [46154151.  ,     1000.  ,    10000.  , ...,     8859.  ,      313.87,     2834.35],\n",
       "       [66055249.  ,    10000.  ,    10000.  , ...,     9233.4 ,      286.21,      278.76]])"
      ]
     },
     "execution_count": 137,
     "metadata": {},
     "output_type": "execute_result"
    }
   ],
   "source": [
    "loan_data_numeric"
   ]
  },
  {
   "cell_type": "code",
   "execution_count": 138,
   "id": "c1d163a6",
   "metadata": {},
   "outputs": [
    {
     "data": {
      "text/plain": [
       "array([[48010226.  ,    35000.  ,    31094.7 , ...,     9452.96,     8398.2 ,        1.13],\n",
       "       [57693261.  ,    30000.  ,    27132.46, ...,     4679.7 ,     4232.39,        1.11],\n",
       "       [59432726.  ,    15000.  ,    13718.7 , ...,     1969.83,     1801.57,        1.09],\n",
       "       ...,\n",
       "       [50415990.  ,    10000.  ,     9141.4 , ...,     2185.64,     1997.98,        1.09],\n",
       "       [46154151.  ,     1000.  ,      885.9 , ...,     3199.4 ,     2834.35,        1.13],\n",
       "       [66055249.  ,    10000.  ,     9233.4 , ...,      301.9 ,      278.76,        1.08]])"
      ]
     },
     "execution_count": 138,
     "metadata": {},
     "output_type": "execute_result"
    }
   ],
   "source": [
    "loan_data_numeric = loan_data_numeric[:,columns_index_order]\n",
    "loan_data_numeric\n"
   ]
  },
  {
   "cell_type": "markdown",
   "id": "ddac70e8",
   "metadata": {},
   "source": [
    "### Interest Rate "
   ]
  },
  {
   "cell_type": "code",
   "execution_count": 139,
   "id": "7ad411ea",
   "metadata": {},
   "outputs": [
    {
     "data": {
      "text/plain": [
       "array(['id', 'loan_amnt_USD', 'loan_amnt_EUR', 'funded_amnt_USD', 'funded_amnt_EUR', 'int_rate',\n",
       "       'installment_USD', 'installment_EUR', 'total_pymnt_USD', 'total_pymnt_EUR', 'exchange_rate'],\n",
       "      dtype='<U19')"
      ]
     },
     "execution_count": 139,
     "metadata": {},
     "output_type": "execute_result"
    }
   ],
   "source": [
    "header_numeric"
   ]
  },
  {
   "cell_type": "code",
   "execution_count": 140,
   "id": "d5b5baef",
   "metadata": {
    "scrolled": true
   },
   "outputs": [
    {
     "data": {
      "text/plain": [
       "array([[48010226.  ,    35000.  ,    31094.7 , ...,     9452.96,     8398.2 ,        1.13],\n",
       "       [57693261.  ,    30000.  ,    27132.46, ...,     4679.7 ,     4232.39,        1.11],\n",
       "       [59432726.  ,    15000.  ,    13718.7 , ...,     1969.83,     1801.57,        1.09],\n",
       "       ...,\n",
       "       [50415990.  ,    10000.  ,     9141.4 , ...,     2185.64,     1997.98,        1.09],\n",
       "       [46154151.  ,     1000.  ,      885.9 , ...,     3199.4 ,     2834.35,        1.13],\n",
       "       [66055249.  ,    10000.  ,     9233.4 , ...,      301.9 ,      278.76,        1.08]])"
      ]
     },
     "execution_count": 140,
     "metadata": {},
     "output_type": "execute_result"
    }
   ],
   "source": [
    "loan_data_numeric"
   ]
  },
  {
   "cell_type": "code",
   "execution_count": 141,
   "id": "be74d622",
   "metadata": {},
   "outputs": [
    {
     "data": {
      "text/plain": [
       "array([13.33,  6.  ,  6.  , ...,  6.  , 16.55,  6.  ])"
      ]
     },
     "execution_count": 141,
     "metadata": {},
     "output_type": "execute_result"
    }
   ],
   "source": [
    "loan_data_numeric[:,5]"
   ]
  },
  {
   "cell_type": "code",
   "execution_count": null,
   "id": "bafd8c05",
   "metadata": {},
   "outputs": [],
   "source": []
  },
  {
   "cell_type": "markdown",
   "id": "7cf899ba",
   "metadata": {},
   "source": [
    "now converting them in 1/0 (for bianry operations)"
   ]
  },
  {
   "cell_type": "code",
   "execution_count": 142,
   "id": "311c70d8",
   "metadata": {},
   "outputs": [
    {
     "data": {
      "text/plain": [
       "array([0.13, 0.06, 0.06, ..., 0.06, 0.17, 0.06])"
      ]
     },
     "execution_count": 142,
     "metadata": {},
     "output_type": "execute_result"
    }
   ],
   "source": [
    "loan_data_numeric[:,5]= loan_data_numeric[:,5]/100\n",
    "loan_data_numeric[:,5]"
   ]
  },
  {
   "cell_type": "markdown",
   "id": "6c115369",
   "metadata": {},
   "source": [
    "### CheckPoint 2 : Numeric\""
   ]
  },
  {
   "cell_type": "code",
   "execution_count": 143,
   "id": "cc5830f5",
   "metadata": {},
   "outputs": [],
   "source": [
    "checkpoint_numeric = checkpoints(\"Checkpoint_Numeric\", header_numeric, loan_data_numeric)"
   ]
  },
  {
   "cell_type": "code",
   "execution_count": 144,
   "id": "6260343e",
   "metadata": {},
   "outputs": [
    {
     "data": {
      "text/plain": [
       "(array(['id', 'loan_amnt_USD', 'loan_amnt_EUR', 'funded_amnt_USD', 'funded_amnt_EUR', 'int_rate',\n",
       "        'installment_USD', 'installment_EUR', 'total_pymnt_USD', 'total_pymnt_EUR', 'exchange_rate'],\n",
       "       dtype='<U19'),\n",
       " array([[48010226.  ,    35000.  ,    31094.7 , ...,     9452.96,     8398.2 ,        1.13],\n",
       "        [57693261.  ,    30000.  ,    27132.46, ...,     4679.7 ,     4232.39,        1.11],\n",
       "        [59432726.  ,    15000.  ,    13718.7 , ...,     1969.83,     1801.57,        1.09],\n",
       "        ...,\n",
       "        [50415990.  ,    10000.  ,     9141.4 , ...,     2185.64,     1997.98,        1.09],\n",
       "        [46154151.  ,     1000.  ,      885.9 , ...,     3199.4 ,     2834.35,        1.13],\n",
       "        [66055249.  ,    10000.  ,     9233.4 , ...,      301.9 ,      278.76,        1.08]]))"
      ]
     },
     "execution_count": 144,
     "metadata": {},
     "output_type": "execute_result"
    }
   ],
   "source": [
    "checkpoint_numeric['header'], checkpoint_numeric['data']"
   ]
  },
  {
   "cell_type": "markdown",
   "id": "8334cbba",
   "metadata": {},
   "source": [
    "# 15) Completing the Dataset"
   ]
  },
  {
   "cell_type": "markdown",
   "id": "aebde204",
   "metadata": {},
   "source": [
    "### Creating the \"Complete\" Dataset/"
   ]
  },
  {
   "cell_type": "code",
   "execution_count": 152,
   "id": "f472f417",
   "metadata": {},
   "outputs": [
    {
     "data": {
      "text/plain": [
       "(10000, 6)"
      ]
     },
     "execution_count": 152,
     "metadata": {},
     "output_type": "execute_result"
    }
   ],
   "source": [
    "checkpoint_strings[\"data\"].shape"
   ]
  },
  {
   "cell_type": "code",
   "execution_count": 153,
   "id": "3e63fa84",
   "metadata": {},
   "outputs": [
    {
     "data": {
      "text/plain": [
       "(10000, 11)"
      ]
     },
     "execution_count": 153,
     "metadata": {},
     "output_type": "execute_result"
    }
   ],
   "source": [
    "checkpoint_numeric[\"data\"].shape"
   ]
  },
  {
   "cell_type": "markdown",
   "id": "8ec54962",
   "metadata": {},
   "source": [
    "#### they both have a same rows so we stack them"
   ]
  },
  {
   "cell_type": "code",
   "execution_count": 161,
   "id": "5961f406",
   "metadata": {},
   "outputs": [
    {
     "data": {
      "text/plain": [
       "array([[48010226.  ,    35000.  ,    31094.7 , ...,       13.  ,        1.  ,        1.  ],\n",
       "       [57693261.  ,    30000.  ,    27132.46, ...,        5.  ,        1.  ,        4.  ],\n",
       "       [59432726.  ,    15000.  ,    13718.7 , ...,       10.  ,        1.  ,        4.  ],\n",
       "       ...,\n",
       "       [50415990.  ,    10000.  ,     9141.4 , ...,        5.  ,        1.  ,        1.  ],\n",
       "       [46154151.  ,     1000.  ,      885.9 , ...,       17.  ,        1.  ,        3.  ],\n",
       "       [66055249.  ,    10000.  ,     9233.4 , ...,        4.  ,        0.  ,        3.  ]])"
      ]
     },
     "execution_count": 161,
     "metadata": {},
     "output_type": "execute_result"
    }
   ],
   "source": [
    "loan_data = np.hstack((checkpoint_numeric[\"data\"],checkpoint_strings[\"data\"]))\n",
    "loan_data"
   ]
  },
  {
   "cell_type": "code",
   "execution_count": 156,
   "id": "f9f3847f",
   "metadata": {},
   "outputs": [
    {
     "data": {
      "text/plain": [
       "0"
      ]
     },
     "execution_count": 156,
     "metadata": {},
     "output_type": "execute_result"
    }
   ],
   "source": [
    "np.isnan(loan_data).sum()"
   ]
  },
  {
   "cell_type": "code",
   "execution_count": 162,
   "id": "d5c6c123",
   "metadata": {},
   "outputs": [
    {
     "data": {
      "text/plain": [
       "array(['id', 'loan_amnt_USD', 'loan_amnt_EUR', 'funded_amnt_USD', 'funded_amnt_EUR', 'int_rate',\n",
       "       'installment_USD', 'installment_EUR', 'total_pymnt_USD', 'total_pymnt_EUR', 'exchange_rate',\n",
       "       'issue_date', 'loan_status', 'term_months', 'sub_grade', 'verification_status',\n",
       "       'addr_state'], dtype='<U19')"
      ]
     },
     "execution_count": 162,
     "metadata": {},
     "output_type": "execute_result"
    }
   ],
   "source": [
    "header_full= np.concatenate((checkpoint_numeric[\"header\"],checkpoint_strings[\"header\"]))\n",
    "header_full"
   ]
  },
  {
   "cell_type": "markdown",
   "id": "f6e0bf4c",
   "metadata": {},
   "source": [
    "### Sorting the New Dataset"
   ]
  },
  {
   "cell_type": "code",
   "execution_count": 163,
   "id": "2f8f246b",
   "metadata": {},
   "outputs": [
    {
     "data": {
      "text/plain": [
       "array([[  373332.  ,     9950.  ,     9401.85, ...,       21.  ,        0.  ,        1.  ],\n",
       "       [  575239.  ,    12000.  ,    11338.92, ...,       36.  ,        1.  ,        2.  ],\n",
       "       [  707689.  ,    10000.  ,     8997.4 , ...,       13.  ,        1.  ,        0.  ],\n",
       "       ...,\n",
       "       [68614880.  ,     5600.  ,     5170.7 , ...,        8.  ,        1.  ,        1.  ],\n",
       "       [68615915.  ,     4000.  ,     3693.36, ...,       10.  ,        1.  ,        2.  ],\n",
       "       [68616519.  ,    21600.  ,    19944.14, ...,        3.  ,        0.  ,        2.  ]])"
      ]
     },
     "execution_count": 163,
     "metadata": {},
     "output_type": "execute_result"
    }
   ],
   "source": [
    "loan_data = loan_data[np.argsort(loan_data[:,0])]\n",
    "loan_data"
   ]
  },
  {
   "cell_type": "code",
   "execution_count": 164,
   "id": "3fb3ca18",
   "metadata": {},
   "outputs": [
    {
     "data": {
      "text/plain": [
       "array([   0,    1,    2, ..., 9997, 9998, 9999], dtype=int64)"
      ]
     },
     "execution_count": 164,
     "metadata": {},
     "output_type": "execute_result"
    }
   ],
   "source": [
    "np.argsort(loan_data[:,0])"
   ]
  },
  {
   "cell_type": "markdown",
   "id": "0e4bfafe",
   "metadata": {},
   "source": [
    "### Sorting the new Dataset (vertically)"
   ]
  },
  {
   "cell_type": "code",
   "execution_count": 167,
   "id": "7392bc16",
   "metadata": {},
   "outputs": [
    {
     "data": {
      "text/plain": [
       "array([['id', 'loan_amnt_USD', 'loan_amnt_EUR', ..., 'sub_grade', 'verification_status',\n",
       "        'addr_state'],\n",
       "       ['id', 'loan_amnt_USD', 'loan_amnt_EUR', ..., 'sub_grade', 'verification_status',\n",
       "        'addr_state'],\n",
       "       ['373332.0', '9950.0', '9401.854876708203', ..., '21.0', '0.0', '1.0'],\n",
       "       ...,\n",
       "       ['68614880.0', '5600.0', '5170.704240110889', ..., '8.0', '1.0', '1.0'],\n",
       "       ['68615915.0', '4000.0', '3693.3601715077784', ..., '10.0', '1.0', '2.0'],\n",
       "       ['68616519.0', '21600.0', '19944.144926142002', ..., '3.0', '0.0', '2.0']], dtype='<U32')"
      ]
     },
     "execution_count": 167,
     "metadata": {},
     "output_type": "execute_result"
    }
   ],
   "source": [
    "loan_data= np.vstack((header_full,loan_data))\n",
    "loan_data"
   ]
  },
  {
   "cell_type": "markdown",
   "id": "7cff2b0a",
   "metadata": {},
   "source": [
    "# Saving The Data"
   ]
  },
  {
   "cell_type": "code",
   "execution_count": 168,
   "id": "de47ff04",
   "metadata": {},
   "outputs": [],
   "source": [
    "np.savetxt(\"loan-data-preprocessed.csv\",\n",
    "          loan_data,\n",
    "          fmt = \"%s\",\n",
    "          delimiter = ',')"
   ]
  },
  {
   "cell_type": "markdown",
   "id": "c6ea9598",
   "metadata": {},
   "source": [
    "\n",
    "### we succesfully Managed to \n",
    "\n",
    "  \n",
    "  - Clean the DataSet\n",
    "  - preprocess the dataset\n",
    "  - prepare the dataset for the further analysis"
   ]
  },
  {
   "cell_type": "code",
   "execution_count": null,
   "id": "b6eb0d20",
   "metadata": {},
   "outputs": [],
   "source": []
  }
 ],
 "metadata": {
  "kernelspec": {
   "display_name": "Python 3 (ipykernel)",
   "language": "python",
   "name": "python3"
  },
  "language_info": {
   "codemirror_mode": {
    "name": "ipython",
    "version": 3
   },
   "file_extension": ".py",
   "mimetype": "text/x-python",
   "name": "python",
   "nbconvert_exporter": "python",
   "pygments_lexer": "ipython3",
   "version": "3.9.12"
  }
 },
 "nbformat": 4,
 "nbformat_minor": 5
}
